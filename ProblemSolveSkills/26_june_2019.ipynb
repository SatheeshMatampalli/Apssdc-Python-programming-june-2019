{
 "cells": [
  {
   "cell_type": "code",
   "execution_count": 13,
   "metadata": {},
   "outputs": [
    {
     "name": "stdout",
     "output_type": "stream",
     "text": [
      "[5, 1, 2, 3, 4]\n",
      "4\n",
      "[1, 2, 3, 4, 5]\n"
     ]
    }
   ],
   "source": [
    "\n",
    "def largestsecond(li):\n",
    "    unique=[]\n",
    "    for element in li:\n",
    "        if element not in unique:\n",
    "            unique.append(element)\n",
    "    print(unique)\n",
    "    unique.sort()\n",
    "    if len(li)>1:\n",
    "        print(unique[-2])\n",
    "li=[5,1,2,3,3,4,1]\n",
    "largestsecond(li)"
   ]
  },
  {
   "cell_type": "code",
   "execution_count": 31,
   "metadata": {},
   "outputs": [
    {
     "name": "stdout",
     "output_type": "stream",
     "text": [
      "enter nth heighest value you want2\n",
      "[2, 1, 3, 4, 5, 6, 7, 8]\n",
      "7\n"
     ]
    }
   ],
   "source": [
    "#nth heighest value\n",
    "def fifth(li,n):\n",
    "    unique=[]\n",
    "    for element in li:\n",
    "        if element not in unique:\n",
    "            unique.append(element)\n",
    "    print(unique)\n",
    "    unique.sort()\n",
    "    print(unique[-n])\n",
    "li=[2,2,2,1,2,3,4,5,6,7,8,7]\n",
    "n=int(input(\"enter nth heighest value you want\"))\n",
    "fifth(li,n)"
   ]
  },
  {
   "cell_type": "code",
   "execution_count": 40,
   "metadata": {},
   "outputs": [
    {
     "name": "stdout",
     "output_type": "stream",
     "text": [
      "enter nth highest value2\n",
      "[1, 2, 3]\n",
      "2\n",
      "None\n"
     ]
    }
   ],
   "source": [
    "#nth highest value\n",
    "def readFile(filepath,n):\n",
    "    uniqueword=[]\n",
    "    for i in li:\n",
    "        a=list(dict.fromkeys(li))\n",
    "    a.sort()\n",
    "    print(a)\n",
    "    print(a[-n])                   \n",
    "filepath=[1,2,2,3,4,19,2]\n",
    "n=int(input(\"enter nth highest value\"))\n",
    "print(readFile(filepath,n))"
   ]
  },
  {
   "cell_type": "code",
   "execution_count": 37,
   "metadata": {},
   "outputs": [
    {
     "name": "stdout",
     "output_type": "stream",
     "text": [
      "enter nth heighest value you want2\n",
      "[1, 2, 3]\n",
      "2\n"
     ]
    }
   ],
   "source": [
    "#nth lowest value\n",
    "def fifth(li,n):\n",
    "    unique=[]\n",
    "    for element in li:\n",
    "        if element not in unique:\n",
    "            unique.append(element)\n",
    "    print(unique)\n",
    "    unique.sort()\n",
    "    if len(unique)>=n:\n",
    "        print(unique[n-1])\n",
    "    else:\n",
    "        print(\"out of range\")\n",
    "li=[1,2,3]\n",
    "n=int(input(\"enter nth heighest value you want\"))\n",
    "fifth(li,n)"
   ]
  },
  {
   "cell_type": "code",
   "execution_count": null,
   "metadata": {},
   "outputs": [],
   "source": [
    "#largest no in list\n",
    "#second largest no in a list\n",
    "#kth largest no in a list\n",
    "#element with highest frequency\n",
    "#kth second highest frequency\n",
    "#kth highest frequency\n"
   ]
  },
  {
   "cell_type": "code",
   "execution_count": 72,
   "metadata": {},
   "outputs": [
    {
     "name": "stdout",
     "output_type": "stream",
     "text": [
      "4\n",
      "4\n",
      "4\n",
      "2\n",
      "[]\n",
      "[2, 1, 3, 4, 5, 6, 7, 8]\n"
     ]
    }
   ],
   "source": [
    "#function to identify the element eith highest frequency \n",
    "def frequencyheighest(li):\n",
    "    unique=[]\n",
    "    un=[]\n",
    "    c=0\n",
    "    for element in li:\n",
    "        if element not in unique:\n",
    "            unique.append(element)\n",
    "        else:\n",
    "            if element in \n",
    "            print(li.count(element))\n",
    "    print(un)\n",
    "    print(unique)\n",
    "# print(un)\n",
    "li=[2,2,2,1,2,3,4,5,6,7,8,7]\n",
    "frequencyheighest(li)"
   ]
  },
  {
   "cell_type": "code",
   "execution_count": 82,
   "metadata": {},
   "outputs": [
    {
     "data": {
      "text/plain": [
       "2"
      ]
     },
     "execution_count": 82,
     "metadata": {},
     "output_type": "execute_result"
    }
   ],
   "source": [
    "\n",
    "\n",
    "def highestFrequency(li):\n",
    "    unique = []\n",
    "    for n in li:\n",
    "        if n not in unique:\n",
    "            unique.append(n)\n",
    "    unique = sorted(unique,reverse = True)\n",
    "    highest = unique[0]\n",
    "    c = 0\n",
    "    for i in range(0,len(li)):\n",
    "        if li[i] == highest:\n",
    "            c+=1\n",
    "    return c\n",
    "li=[2,2,2,1,2,3,4,5,6,7,8,7,8]\n",
    "highestFrequency(li)"
   ]
  },
  {
   "cell_type": "code",
   "execution_count": 91,
   "metadata": {},
   "outputs": [
    {
     "data": {
      "text/plain": [
       "2"
      ]
     },
     "execution_count": 91,
     "metadata": {},
     "output_type": "execute_result"
    }
   ],
   "source": [
    "#element with highest frequency\n",
    "#identify the element with highest frequency\n",
    "#if many elements have the highest frequency\n",
    "#\n",
    "def highestFrequeny(li):\n",
    "    unique={}\n",
    "    for n in li:\n",
    "        if n not in unique:\n",
    "            unique[n]=1\n",
    "        else:\n",
    "            unique[n]+=1\n",
    "#getting all the frequencies into list\n",
    "    freq=unique.values()\n",
    "    maxfreq=max(freq)\n",
    "#identify the keys with max frequency\n",
    "    maxfreqkeys=[]\n",
    "    for item in unique.items():\n",
    "    #item..>(key,value)\n",
    "    #item[1]\n",
    "        if item[1]==maxfreq:\n",
    "            maxfreqkeys.append(item[0])\n",
    "    return min(maxfreqkeys)\n",
    "highestFrequeny([1,2,2,3,9,8,7,3,4,2,1])\n",
    "        "
   ]
  },
  {
   "cell_type": "code",
   "execution_count": 123,
   "metadata": {},
   "outputs": [
    {
     "name": "stdout",
     "output_type": "stream",
     "text": [
      "........Dictionary ............\n",
      "{1: 2, 2: 2, 3: 1, 4: 2, 9: 1}\n",
      "...........values of frequency numbers.............\n",
      "dict_values([2, 2, 1, 2, 1])\n",
      "............maximum value ..................\n",
      "2\n",
      "[(1, 2), (2, 2), (3, 1), (4, 2), (9, 1)]\n"
     ]
    },
    {
     "data": {
      "text/plain": [
       "3"
      ]
     },
     "execution_count": 123,
     "metadata": {},
     "output_type": "execute_result"
    }
   ],
   "source": [
    "#function to identify second highest frequency element\n",
    "#if there are many such elements,return the smallest\n",
    "#[1,2,3,1,2,1,4,4,9]\n",
    "def secondhighestFrequeny(li):\n",
    "    unique={}\n",
    "    for n in li:\n",
    "        if n not in unique:\n",
    "            unique[n]=1\n",
    "        else:\n",
    "            unique[n]+=1\n",
    "    print(\"........Dictionary ............\")\n",
    "    print(unique)\n",
    "#getting all the frequencies into list\n",
    "    freq=unique.values()\n",
    "    print(\"...........values of frequency numbers.............\")\n",
    "    print(freq)\n",
    "    maxfreq=max(freq)\n",
    "    print(\"............maximum value ..................\")\n",
    "    print(maxfreq)\n",
    "    max2=0\n",
    "    for v in unique.values():\n",
    "        if v>max2 and v<maxfreq:\n",
    "            max2=v\n",
    "#identify the keys with max frequency\n",
    "    maxfreqkeys=[]\n",
    "    un=list(dict.fromkeys(unique.items()))\n",
    "    un.sort()\n",
    "    print(un)\n",
    "    for item in unique.items():\n",
    "    #item..>(key,value)\n",
    "    #item[1]\n",
    "#         print(item[1])\n",
    "        if item[1]==max2:\n",
    "            maxfreqkeys.append(item[0])\n",
    "    return min(maxfreqkeys)\n",
    "secondhighestFrequeny([1,2,3,2,1,4,4,9])\n"
   ]
  },
  {
   "cell_type": "code",
   "execution_count": 126,
   "metadata": {},
   "outputs": [
    {
     "name": "stdout",
     "output_type": "stream",
     "text": [
      "........Dictionary ............\n",
      "{1: 2, 2: 2, 3: 1, 4: 2, 9: 1}\n",
      "...........values of frequency numbers.............\n",
      "dict_values([2, 2, 1, 2, 1])\n",
      "............maximum value ..................\n",
      "2\n"
     ]
    },
    {
     "data": {
      "text/plain": [
       "1"
      ]
     },
     "execution_count": 126,
     "metadata": {},
     "output_type": "execute_result"
    }
   ],
   "source": [
    "#function to identify second highest frequency element\n",
    "#if there are many such elements,return the smallest\n",
    "#[1,2,3,1,2,1,4,4,9]\n",
    "def nthhighestFrequeny(li):\n",
    "    unique={}\n",
    "    for n in li:\n",
    "        if n not in unique:\n",
    "            unique[n]=1\n",
    "        else:\n",
    "            unique[n]+=1\n",
    "    print(\"........Dictionary ............\")\n",
    "    print(unique)\n",
    "#getting all the frequencies into list\n",
    "    freq=unique.values()\n",
    "    print(\"...........values of frequency numbers.............\")\n",
    "    print(freq)\n",
    "    maxfreq=max(freq)\n",
    "    print(\"............maximum value ..................\")\n",
    "    print(maxfreq)\n",
    "#     max2=0\n",
    "#     for v in unique.values():\n",
    "#         if v>max2 and v<maxfreq:\n",
    "#             max2=v\n",
    "#identify the keys with max frequency\n",
    "    maxfreqkeys=[]\n",
    "#     un=list(dict.fromkeys(unique.items()))\n",
    "#     un.sort()\n",
    "#     print(un)\n",
    "    for item in unique.items():\n",
    "    #item..>(key,value)\n",
    "    #item[1]\n",
    "#         print(item[1])\n",
    "        if item[1]==maxfreq:\n",
    "            maxfreqkeys.append(item[0])\n",
    "    return min(maxfreqkeys)\n",
    "nthhighestFrequeny([1,2,3,2,1,4,4,9])"
   ]
  },
  {
   "cell_type": "code",
   "execution_count": 16,
   "metadata": {},
   "outputs": [
    {
     "name": "stdout",
     "output_type": "stream",
     "text": [
      "[6, 7]\n"
     ]
    },
    {
     "data": {
      "text/plain": [
       "6"
      ]
     },
     "execution_count": 16,
     "metadata": {},
     "output_type": "execute_result"
    }
   ],
   "source": [
    "def kthhighestfrequency(s,k):\n",
    "    unique={}\n",
    "    for a in s:\n",
    "        if a not in unique:\n",
    "            unique[a]=1\n",
    "        else:\n",
    "            unique[a]+=1\n",
    "    print(unique)\n",
    "    uniquefreq=[]\n",
    "    for value in unique.values():\n",
    "        if value not in uniquefreq:\n",
    "            uniquefreq.append(value)\n",
    "    print(uniquefreq)\n",
    "    uniquefreq=sorted(uniquefreq,reverse=True)\n",
    "    print(uniquefreq)\n",
    "    kfreq=uniquefreq[k-1]\n",
    "    kfreqchar=[]\n",
    "    print(unique.items())\n",
    "    for item in unique.items():\n",
    "        if item[1]==kfreq:\n",
    "            kfreqchar.append(item[0])\n",
    "    print(kfreqchar)       \n",
    "    return min(kfreqchar)\n",
    "        \n",
    "        \n",
    "s=[9,8,6,5,2,3,4,9,6,7,7,7,6,6,7]\n",
    "# with open(\"k-largest-frequency-input.txt\",'r')as f:\n",
    "    \n",
    "    \n",
    "kthhighestfrequency(s,1)"
   ]
  },
  {
   "cell_type": "code",
   "execution_count": 21,
   "metadata": {},
   "outputs": [
    {
     "name": "stdout",
     "output_type": "stream",
     "text": [
      "dict_items([('r', 3843), ('t', 3743), ('k', 3725), ('p', 3879), ('e', 3818), ('m', 3936), ('n', 3914), ('s', 3731), ('a', 3849), ('w', 3926), ('h', 3776), ('g', 3884), ('b', 3858), ('u', 3774), ('v', 3793), ('i', 3908), ('l', 3832), ('c', 3892), ('x', 3742), ('q', 3864), ('o', 3888), ('j', 3777), ('d', 3959), ('z', 3811), ('y', 3840), ('f', 4038), ('\\n', 1)])\n",
      "m\n",
      "dict_items([('b', 3795), ('u', 3883), ('e', 3821), ('s', 3836), ('y', 3880), ('q', 3866), ('c', 3769), ('a', 3835), ('m', 3858), ('x', 3886), ('d', 3797), ('p', 3893), ('j', 3820), ('h', 3867), ('n', 3931), ('g', 3870), ('o', 3864), ('r', 3862), ('w', 3960), ('i', 3880), ('k', 3799), ('t', 3727), ('v', 3835), ('l', 3890), ('f', 3865), ('z', 3711), ('\\n', 1)])\n",
      "j\n",
      "dict_items([('m', 3807), ('s', 3751), ('y', 3819), ('z', 3801), ('a', 3874), ('j', 3903), ('x', 3854), ('g', 3866), ('t', 3864), ('n', 3792), ('b', 3861), ('e', 3799), ('h', 3854), ('v', 3871), ('f', 3903), ('p', 3903), ('w', 3747), ('o', 3881), ('i', 3966), ('r', 3784), ('u', 3936), ('c', 3851), ('q', 3925), ('k', 3868), ('d', 3813), ('l', 3707), ('\\n', 1)])\n",
      "c\n",
      "dict_items([('q', 3714), ('n', 3820), ('x', 3769), ('v', 3848), ('d', 3747), ('e', 3877), ('c', 3819), ('o', 3888), ('m', 3984), ('b', 4016), ('h', 3884), ('s', 3851), ('u', 3970), ('j', 3822), ('t', 3880), ('z', 3894), ('p', 3901), ('w', 3885), ('y', 3738), ('l', 3917), ('a', 3813), ('k', 3831), ('r', 3828), ('g', 3756), ('f', 3824), ('i', 3724), ('\\n', 1)])\n",
      "j\n",
      "dict_items([('b', 3904), ('x', 3816), ('q', 3826), ('r', 3831), ('j', 3900), ('c', 3772), ('g', 3974), ('i', 3746), ('z', 3878), ('d', 3795), ('f', 3872), ('h', 3882), ('s', 3805), ('m', 3828), ('l', 3887), ('w', 3802), ('y', 3940), ('k', 3907), ('e', 3881), ('v', 3895), ('n', 3890), ('p', 3829), ('t', 3756), ('a', 3750), ('u', 3794), ('o', 3840), ('\\n', 1)])\n",
      "l\n",
      "dict_items([('t', 3896), ('x', 3835), ('m', 3803), ('g', 3810), ('h', 3801), ('s', 3787), ('u', 3933), ('l', 3862), ('r', 3848), ('o', 3881), ('c', 3853), ('n', 3790), ('v', 3760), ('d', 3805), ('e', 3942), ('q', 3853), ('p', 3851), ('j', 3928), ('w', 3782), ('f', 3952), ('z', 3799), ('k', 3868), ('i', 3786), ('a', 3838), ('b', 3814), ('y', 3923), ('\\n', 1)])\n",
      "b\n",
      "dict_items([('i', 3853), ('v', 3811), ('m', 3976), ('r', 3774), ('e', 3877), ('u', 3876), ('j', 3738), ('l', 3853), ('d', 3794), ('c', 3874), ('b', 3868), ('h', 3779), ('o', 3846), ('t', 3854), ('w', 3910), ('a', 3893), ('z', 3817), ('x', 3958), ('s', 3880), ('p', 3884), ('q', 3787), ('k', 3785), ('g', 3817), ('f', 3741), ('n', 3927), ('y', 3828), ('\\n', 1)])\n",
      "f\n",
      "dict_items([('p', 3842), ('e', 3793), ('f', 3849), ('x', 3842), ('a', 3804), ('r', 3770), ('c', 3947), ('o', 3854), ('j', 3829), ('b', 3835), ('y', 3777), ('l', 3867), ('w', 3889), ('g', 3909), ('s', 3789), ('z', 3866), ('t', 3771), ('i', 3845), ('h', 3868), ('d', 3934), ('v', 3910), ('u', 3859), ('n', 3855), ('k', 3880), ('q', 3752), ('m', 3864), ('\\n', 1)])\n",
      "s\n"
     ]
    },
    {
     "ename": "IndexError",
     "evalue": "list index out of range",
     "output_type": "error",
     "traceback": [
      "\u001b[1;31m---------------------------------------------------------------------------\u001b[0m",
      "\u001b[1;31mIndexError\u001b[0m                                Traceback (most recent call last)",
      "\u001b[1;32m<ipython-input-21-059f58cec67e>\u001b[0m in \u001b[0;36m<module>\u001b[1;34m\u001b[0m\n\u001b[0;32m     34\u001b[0m             \u001b[0mk\u001b[0m\u001b[1;33m=\u001b[0m\u001b[0mint\u001b[0m\u001b[1;33m(\u001b[0m\u001b[0mf\u001b[0m\u001b[1;33m.\u001b[0m\u001b[0mreadline\u001b[0m\u001b[1;33m(\u001b[0m\u001b[1;33m)\u001b[0m\u001b[1;33m)\u001b[0m\u001b[1;33m\u001b[0m\u001b[1;33m\u001b[0m\u001b[0m\n\u001b[0;32m     35\u001b[0m             \u001b[0mprint\u001b[0m\u001b[1;33m(\u001b[0m\u001b[0mkthhighestfrequency\u001b[0m\u001b[1;33m(\u001b[0m\u001b[0ms\u001b[0m\u001b[1;33m,\u001b[0m\u001b[0mk\u001b[0m\u001b[1;33m)\u001b[0m\u001b[1;33m)\u001b[0m\u001b[1;33m\u001b[0m\u001b[1;33m\u001b[0m\u001b[0m\n\u001b[1;32m---> 36\u001b[1;33m \u001b[0ma\u001b[0m\u001b[1;33m(\u001b[0m\u001b[1;33m)\u001b[0m\u001b[1;33m\u001b[0m\u001b[1;33m\u001b[0m\u001b[0m\n\u001b[0m\u001b[0;32m     37\u001b[0m \u001b[1;33m\u001b[0m\u001b[0m\n\u001b[0;32m     38\u001b[0m \u001b[1;31m# kthhighestfrequency(s,1)\u001b[0m\u001b[1;33m\u001b[0m\u001b[1;33m\u001b[0m\u001b[1;33m\u001b[0m\u001b[0m\n",
      "\u001b[1;32m<ipython-input-21-059f58cec67e>\u001b[0m in \u001b[0;36ma\u001b[1;34m()\u001b[0m\n\u001b[0;32m     33\u001b[0m             \u001b[0ms\u001b[0m\u001b[1;33m=\u001b[0m\u001b[0mf\u001b[0m\u001b[1;33m.\u001b[0m\u001b[0mreadline\u001b[0m\u001b[1;33m(\u001b[0m\u001b[1;33m)\u001b[0m\u001b[1;33m\u001b[0m\u001b[1;33m\u001b[0m\u001b[0m\n\u001b[0;32m     34\u001b[0m             \u001b[0mk\u001b[0m\u001b[1;33m=\u001b[0m\u001b[0mint\u001b[0m\u001b[1;33m(\u001b[0m\u001b[0mf\u001b[0m\u001b[1;33m.\u001b[0m\u001b[0mreadline\u001b[0m\u001b[1;33m(\u001b[0m\u001b[1;33m)\u001b[0m\u001b[1;33m)\u001b[0m\u001b[1;33m\u001b[0m\u001b[1;33m\u001b[0m\u001b[0m\n\u001b[1;32m---> 35\u001b[1;33m             \u001b[0mprint\u001b[0m\u001b[1;33m(\u001b[0m\u001b[0mkthhighestfrequency\u001b[0m\u001b[1;33m(\u001b[0m\u001b[0ms\u001b[0m\u001b[1;33m,\u001b[0m\u001b[0mk\u001b[0m\u001b[1;33m)\u001b[0m\u001b[1;33m)\u001b[0m\u001b[1;33m\u001b[0m\u001b[1;33m\u001b[0m\u001b[0m\n\u001b[0m\u001b[0;32m     36\u001b[0m \u001b[0ma\u001b[0m\u001b[1;33m(\u001b[0m\u001b[1;33m)\u001b[0m\u001b[1;33m\u001b[0m\u001b[1;33m\u001b[0m\u001b[0m\n\u001b[0;32m     37\u001b[0m \u001b[1;33m\u001b[0m\u001b[0m\n",
      "\u001b[1;32m<ipython-input-21-059f58cec67e>\u001b[0m in \u001b[0;36mkthhighestfrequency\u001b[1;34m(s, k)\u001b[0m\n\u001b[0;32m     15\u001b[0m \u001b[1;31m#     print(uniquefreq)\u001b[0m\u001b[1;33m\u001b[0m\u001b[1;33m\u001b[0m\u001b[1;33m\u001b[0m\u001b[0m\n\u001b[0;32m     16\u001b[0m     \u001b[1;32mif\u001b[0m \u001b[0mk\u001b[0m\u001b[1;33m>=\u001b[0m\u001b[1;36m1\u001b[0m\u001b[1;33m:\u001b[0m\u001b[1;33m\u001b[0m\u001b[1;33m\u001b[0m\u001b[0m\n\u001b[1;32m---> 17\u001b[1;33m         \u001b[0mkfreq\u001b[0m\u001b[1;33m=\u001b[0m\u001b[0muniquefreq\u001b[0m\u001b[1;33m[\u001b[0m\u001b[1;33m-\u001b[0m\u001b[0mk\u001b[0m\u001b[1;33m]\u001b[0m\u001b[1;33m\u001b[0m\u001b[1;33m\u001b[0m\u001b[0m\n\u001b[0m\u001b[0;32m     18\u001b[0m \u001b[1;33m\u001b[0m\u001b[0m\n\u001b[0;32m     19\u001b[0m         \u001b[0mprint\u001b[0m\u001b[1;33m(\u001b[0m\u001b[0munique\u001b[0m\u001b[1;33m.\u001b[0m\u001b[0mitems\u001b[0m\u001b[1;33m(\u001b[0m\u001b[1;33m)\u001b[0m\u001b[1;33m)\u001b[0m\u001b[1;33m\u001b[0m\u001b[1;33m\u001b[0m\u001b[0m\n",
      "\u001b[1;31mIndexError\u001b[0m: list index out of range"
     ]
    }
   ],
   "source": [
    "def kthhighestfrequency(s,k):\n",
    "    unique={}\n",
    "    for a in s:\n",
    "        if a not in unique:\n",
    "            unique[a]=1\n",
    "        else:\n",
    "            unique[a]+=1\n",
    "#     print(unique)\n",
    "    uniquefreq=[]\n",
    "    for value in unique.values():\n",
    "        if value not in uniquefreq:\n",
    "            uniquefreq.append(value)\n",
    "#     print(uniquefreq)\n",
    "    uniquefreq=sorted(uniquefreq,reverse=True)\n",
    "#     print(uniquefreq)\n",
    "    if k>=1:\n",
    "        kfreq=uniquefreq[-k]\n",
    "       \n",
    "        print(unique.items())\n",
    "    else:\n",
    "        print(-1)\n",
    "    kfreqchar=[]\n",
    "    for item in unique.items():\n",
    "        if item[1]==kfreq:\n",
    "            kfreqchar.append(item[0])\n",
    "#     print(kfreqchar)\n",
    "#     if len(kfreqchar)==1:\n",
    "    return min(kfreqchar)\n",
    "def a():\n",
    "    with open(\"./DataFiles/k-largest-frequency-input.txt\",'r')as f:\n",
    "        t=int(f.readline())\n",
    "        for i in range(t):\n",
    "            s=f.readline()\n",
    "            k=int(f.readline())\n",
    "            print(kthhighestfrequency(s,k))\n",
    "a()   \n",
    "    \n",
    "# kthhighestfrequency(s,1)"
   ]
  },
  {
   "cell_type": "code",
   "execution_count": null,
   "metadata": {},
   "outputs": [],
   "source": []
  },
  {
   "cell_type": "code",
   "execution_count": 26,
   "metadata": {},
   "outputs": [
    {
     "name": "stdout",
     "output_type": "stream",
     "text": [
      "s\n",
      "g\n",
      "h\n",
      "e\n",
      "w\n",
      "r\n",
      "n\n",
      "k\n",
      "-1\n",
      "-1\n"
     ]
    }
   ],
   "source": [
    "def khighFrequencyFile(li,k):\n",
    "    unique = {}\n",
    "    for n in li:\n",
    "        if n not in unique:\n",
    "            unique[n] = 1\n",
    "        else:\n",
    "            unique[n]+= 1\n",
    "    freq = unique.values()\n",
    "    kfreq = sorted(list(set(freq)))\n",
    "    # print(kfreq)\n",
    "    if k<len(kfreq):\n",
    "        maxfreq = kfreq[-k] #k th highest value\n",
    "    else:\n",
    "        return -1\n",
    "    # print(maxfreq)\n",
    "    maxfreqE = []\n",
    "    for item in unique.items():\n",
    "        if item[1] == maxfreq:\n",
    "            maxfreqE.append(item[0])\n",
    "         #  print(maxfreqE)\n",
    "    maxfreqE = sorted(maxfreqE)\n",
    "    return min(maxfreqE)\n",
    "\n",
    "def fileInput():\n",
    "    with open('./DataFiles/k-largest-frequency-input.txt') as file:\n",
    "        testCases = int(file.readline())\n",
    "        for i in range(testCases):\n",
    "            s=file.readline()\n",
    "            k=int(file.readline())\n",
    "            print(khighFrequencyFile(s,k))\n",
    "fileInput()"
   ]
  }
 ],
 "metadata": {
  "kernelspec": {
   "display_name": "Python 3",
   "language": "python",
   "name": "python3"
  },
  "language_info": {
   "codemirror_mode": {
    "name": "ipython",
    "version": 3
   },
   "file_extension": ".py",
   "mimetype": "text/x-python",
   "name": "python",
   "nbconvert_exporter": "python",
   "pygments_lexer": "ipython3",
   "version": "3.7.3"
  }
 },
 "nbformat": 4,
 "nbformat_minor": 2
}
