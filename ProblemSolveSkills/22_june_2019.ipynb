{
 "cells": [
  {
   "cell_type": "markdown",
   "metadata": {},
   "source": [
    "### File handling (Recap)\n",
    "    - Basic file data processing\n",
    "        - accessing and modify file data\n",
    "    - character count\n",
    "    - line count\n",
    "    - file count\n",
    "    - word count\n",
    "    - unique word count\n",
    "    "
   ]
  },
  {
   "cell_type": "code",
   "execution_count": 30,
   "metadata": {},
   "outputs": [
    {
     "name": "stdout",
     "output_type": "stream",
     "text": [
      "77\n"
     ]
    }
   ],
   "source": [
    "# count characters\n",
    "def readFile(filepath):\n",
    "    c=0\n",
    "    with open(filepath,'r') as f:\n",
    "        filedata=f.read()\n",
    "        for i in filedata:\n",
    "            c=c+1\n",
    "        return c\n",
    "filepath=\"./DataFiles/file1.txt\"\n",
    "print(readFile(filepath))"
   ]
  },
  {
   "cell_type": "code",
   "execution_count": 29,
   "metadata": {},
   "outputs": [
    {
     "name": "stdout",
     "output_type": "stream",
     "text": [
      "12\n",
      "None\n"
     ]
    }
   ],
   "source": [
    "# count words\n",
    "def readFile(filepath):\n",
    "    c=0\n",
    "    with open(filepath,'r') as f:\n",
    "        filedata=f.read().split()\n",
    "        print(len(filedata))\n",
    "filepath=\"./DataFiles/file1.txt\"\n",
    "print(readFile(filepath))\n"
   ]
  },
  {
   "cell_type": "code",
   "execution_count": 28,
   "metadata": {},
   "outputs": [
    {
     "name": "stdout",
     "output_type": "stream",
     "text": [
      "6\n"
     ]
    }
   ],
   "source": [
    "# count lines\n",
    "def readFile(filepath):\n",
    "    c=0\n",
    "    with open(filepath,'r') as f:\n",
    "        for i in f:\n",
    "            c=c+1\n",
    "        return c\n",
    "filepath=\"./DataFiles/file1.txt\"\n",
    "print(readFile(filepath))"
   ]
  },
  {
   "cell_type": "code",
   "execution_count": 22,
   "metadata": {},
   "outputs": [
    {
     "name": "stdout",
     "output_type": "stream",
     "text": [
      "Welcome satheesh\n",
      "goodEvening satheesh\n",
      "are you single\n",
      "yes ohhhh!!!!\n",
      "why dude\n",
      "?\n"
     ]
    }
   ],
   "source": [
    "#read file and it should exist(Read mode)\n",
    "#write to file-existing(append mode) or new file(write mode)\n",
    "def readFile(filepath):\n",
    "    with open(filepath,'r') as f:\n",
    "        filedata=f.read()\n",
    "    return filedata\n",
    "filepath=\"./DataFiles/file1.txt\"\n",
    "print(readFile(filepath))"
   ]
  },
  {
   "cell_type": "code",
   "execution_count": 98,
   "metadata": {
    "scrolled": false
   },
   "outputs": [
    {
     "name": "stdout",
     "output_type": "stream",
     "text": [
      "['Welcome', 'satheesh', 'goodEvening', 'satheesh', 'are', 'you', 'single', 'yes', 'ohhhh!!!!', 'why', 'dude', '?']\n",
      "Welcome goodEvening are you single yes ohhhh!!!! why dude ? 10\n",
      "None\n"
     ]
    }
   ],
   "source": [
    "#unique word count\n",
    "def readFile(filepath):\n",
    "    uniqueword=[]\n",
    "    with open(filepath,'r') as f:\n",
    "        filedata=f.read().split()\n",
    "        print(filedata)\n",
    "        for word in filedata:\n",
    "            if (filedata.count(word)==1) and (word not in uniqueword):\n",
    "                uniqueword.append(word)\n",
    "            else:\n",
    "                continue\n",
    "        c=0\n",
    "        for a in uniqueword:\n",
    "            print(a,end=\" \")\n",
    "            c=c+1\n",
    "        print(c)\n",
    "                    \n",
    "filepath=\"./DataFiles/file1.txt\"\n",
    "print(readFile(filepath))"
   ]
  },
  {
   "cell_type": "code",
   "execution_count": null,
   "metadata": {},
   "outputs": [],
   "source": []
  },
  {
   "cell_type": "code",
   "execution_count": 51,
   "metadata": {},
   "outputs": [
    {
     "name": "stdout",
     "output_type": "stream",
     "text": [
      "['Welcome', 'satheesh', 'goodEvening', 'are', 'you', 'single', 'yes', 'ohhhh!!!!', 'why', 'dude', '?']\n",
      "None\n"
     ]
    }
   ],
   "source": [
    "#unique word count\n",
    "def readFile(filepath):\n",
    "    uniqueword=[]\n",
    "    with open(filepath,'r') as f:\n",
    "        filedata=f.read().split()\n",
    "        a=list(dict.fromkeys(filedata))\n",
    "    print(a)\n",
    "    a=str(a)\n",
    "       \n",
    "                    \n",
    "filepath=\"./DataFiles/file1.txt\"\n",
    "print(readFile(filepath))"
   ]
  },
  {
   "cell_type": "code",
   "execution_count": 97,
   "metadata": {},
   "outputs": [
    {
     "name": "stdout",
     "output_type": "stream",
     "text": [
      "['a', 'b', 'c']\n",
      "['a', 'b', 'd']\n",
      "0\n",
      "0\n",
      "0\n"
     ]
    }
   ],
   "source": [
    "uniqueword=[]\n",
    "a=\"abc\"\n",
    "b=\"abd\"\n",
    "co=0\n",
    "c=[]\n",
    "d=[]\n",
    "f=[]\n",
    "zzz=0\n",
    "for i in range(0,len(a)):\n",
    "    zz=a[i]\n",
    "    c.append(zz)\n",
    "print(c)\n",
    "for j in range(0,len(b)):\n",
    "    zzz=b[j]\n",
    "    d.append(zzz)\n",
    "print(d)\n",
    "for t in c:\n",
    "    for y in d:\n",
    "        if t==y:\n",
    "            continue\n",
    "        else:\n",
    "            c=co+1\n",
    "    print(co)\n",
    "\n",
    "#         for word in filedata:\n",
    "#             if (filedata.count(word)==1) and (word not in uniqueword):\n",
    "#                 uniqueword.append(word)\n",
    "#             else:\n",
    "#                 continue\n",
    "#         c=0\n",
    "#         for a in uniqueword:\n",
    "#             print(a,end=\" \")\n",
    "#             c=c+1\n",
    "#         print(c)"
   ]
  },
  {
   "cell_type": "code",
   "execution_count": 100,
   "metadata": {},
   "outputs": [
    {
     "data": {
      "text/plain": [
       "[1, 2, 3, 4]"
      ]
     },
     "execution_count": 100,
     "metadata": {},
     "output_type": "execute_result"
    }
   ],
   "source": [
    "# Function to get unique data in a list\n",
    "def uniqueData(li):\n",
    "    unique=[]\n",
    "    for element in li:\n",
    "        if element not in unique:\n",
    "            unique.append(element)\n",
    "    return unique\n",
    "li=[1,2,3,3,4,1]\n",
    "uniqueData(li)"
   ]
  },
  {
   "cell_type": "code",
   "execution_count": 101,
   "metadata": {},
   "outputs": [
    {
     "name": "stdout",
     "output_type": "stream",
     "text": [
      "77 bytes\n"
     ]
    }
   ],
   "source": [
    "# Function to print filesize\n",
    "import os\n",
    "def filesize(f):\n",
    "    b=os.path.getsize(f)\n",
    "    if b<1000:\n",
    "        print(b,\"bytes\")\n",
    "    else:\n",
    "        a=b//1000\n",
    "        print(a,\"kb\")\n",
    "    return\n",
    "filesize(\"DataFiles/file1.txt\")"
   ]
  },
  {
   "cell_type": "code",
   "execution_count": null,
   "metadata": {},
   "outputs": [],
   "source": []
  }
 ],
 "metadata": {
  "kernelspec": {
   "display_name": "Python 3",
   "language": "python",
   "name": "python3"
  },
  "language_info": {
   "codemirror_mode": {
    "name": "ipython",
    "version": 3
   },
   "file_extension": ".py",
   "mimetype": "text/x-python",
   "name": "python",
   "nbconvert_exporter": "python",
   "pygments_lexer": "ipython3",
   "version": "3.7.3"
  }
 },
 "nbformat": 4,
 "nbformat_minor": 2
}
