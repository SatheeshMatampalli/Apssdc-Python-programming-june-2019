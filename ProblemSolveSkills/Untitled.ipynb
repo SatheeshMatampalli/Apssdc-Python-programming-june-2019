{
 "cells": [
  {
   "cell_type": "code",
   "execution_count": null,
   "metadata": {},
   "outputs": [],
   "source": [
    "def readfile(filename,mode):\n",
    "    f=open(filename,mode)\n",
    "    for i in f:\n",
    "        \n",
    "    \n",
    "    print(f.read())\n",
    "\n",
    "readfile(\"DataFiles/file1.txt\",\"r\")"
   ]
  },
  {
   "cell_type": "code",
   "execution_count": 13,
   "metadata": {},
   "outputs": [
    {
     "name": "stdout",
     "output_type": "stream",
     "text": [
      "9\n",
      "<_io.TextIOWrapper name='./DataFiles/sample.txt' mode='a' encoding='cp1252'>\n"
     ]
    }
   ],
   "source": [
    "f=open(\"./DataFiles/sample.txt\",'a')\n",
    "print(f.write(\"satheesh\"+'\\n'))\n",
    "f.close()\n",
    "print(f)"
   ]
  },
  {
   "cell_type": "code",
   "execution_count": null,
   "metadata": {},
   "outputs": [],
   "source": []
  }
 ],
 "metadata": {
  "kernelspec": {
   "display_name": "Python 3",
   "language": "python",
   "name": "python3"
  },
  "language_info": {
   "codemirror_mode": {
    "name": "ipython",
    "version": 3
   },
   "file_extension": ".py",
   "mimetype": "text/x-python",
   "name": "python",
   "nbconvert_exporter": "python",
   "pygments_lexer": "ipython3",
   "version": "3.7.3"
  }
 },
 "nbformat": 4,
 "nbformat_minor": 2
}
