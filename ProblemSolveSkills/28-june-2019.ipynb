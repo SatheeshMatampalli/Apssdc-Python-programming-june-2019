{
 "cells": [
  {
   "cell_type": "markdown",
   "metadata": {},
   "source": [
    "### Day Objectives<br>\n",
    "_ map<br>\n",
    "_ Lambda<br>\n",
    "_ Filter<br>\n",
    "_ use cases"
   ]
  },
  {
   "cell_type": "code",
   "execution_count": null,
   "metadata": {},
   "outputs": [],
   "source": [
    "# Maps\n",
    "# entity with functions\n",
    "f:x^2+3*x+9\n",
    "x:[1,10]\n",
    "f(x)"
   ]
  },
  {
   "cell_type": "code",
   "execution_count": 9,
   "metadata": {},
   "outputs": [
    {
     "data": {
      "text/plain": [
       "1024"
      ]
     },
     "execution_count": 9,
     "metadata": {},
     "output_type": "execute_result"
    }
   ],
   "source": [
    "def powerN(a,n):\n",
    "    r=1\n",
    "    for i in range(n):\n",
    "        r=r*a\n",
    "    return r\n",
    "# powerN(2,10)\n",
    "def recursivePowerN(a,n):\n",
    "    if n==0:\n",
    "        return 1\n",
    "    else:\n",
    "        return a*recursivePowerN(a,n-1)\n",
    "recursivePowerN(2,10)\n",
    "        "
   ]
  },
  {
   "cell_type": "code",
   "execution_count": 18,
   "metadata": {},
   "outputs": [
    {
     "data": {
      "text/plain": [
       "{1, 8, 27, 64, 125, 216}"
      ]
     },
     "execution_count": 18,
     "metadata": {},
     "output_type": "execute_result"
    }
   ],
   "source": [
    "def cube(n):\n",
    "    return n**3\n",
    "li=[1,2,3,4,5,6]\n",
    "# a=set(map(cube,li))\n",
    "set(map(cube,li))\n",
    "# print(a)\n",
    "# cube()"
   ]
  },
  {
   "cell_type": "code",
   "execution_count": 19,
   "metadata": {},
   "outputs": [
    {
     "data": {
      "text/plain": [
       "[1, 2]"
      ]
     },
     "execution_count": 19,
     "metadata": {},
     "output_type": "execute_result"
    }
   ],
   "source": [
    "l=[\"1\",\"2\"]\n",
    "l=list(map(int,l))\n",
    "l\n",
    "        "
   ]
  },
  {
   "cell_type": "code",
   "execution_count": 32,
   "metadata": {},
   "outputs": [
    {
     "data": {
      "text/plain": [
       "[1, 2, 3]"
      ]
     },
     "execution_count": 32,
     "metadata": {},
     "output_type": "execute_result"
    }
   ],
   "source": [
    "#Filter\n",
    "# used to check boolean values\n",
    "li=[1,2,3,\"satheesh\",\"a\"]\n",
    "def isDigit(c):\n",
    "    c=str(c)\n",
    "    if c.isdigit():\n",
    "        return True\n",
    "    return False\n",
    "isDigit(\"a\")\n",
    "list(filter(isDigit,li))\n",
    "\n",
    "# filter(li.isdigit())"
   ]
  },
  {
   "cell_type": "code",
   "execution_count": 51,
   "metadata": {},
   "outputs": [
    {
     "name": "stdout",
     "output_type": "stream",
     "text": [
      "1\n",
      "2\n",
      "3\n",
      "4\n",
      "5\n"
     ]
    },
    {
     "ename": "IndexError",
     "evalue": "list index out of range",
     "output_type": "error",
     "traceback": [
      "\u001b[1;31m---------------------------------------------------------------------------\u001b[0m",
      "\u001b[1;31mIndexError\u001b[0m                                Traceback (most recent call last)",
      "\u001b[1;32m<ipython-input-51-fff445fbacda>\u001b[0m in \u001b[0;36m<module>\u001b[1;34m\u001b[0m\n\u001b[0;32m     13\u001b[0m     \u001b[1;32melse\u001b[0m\u001b[1;33m:\u001b[0m\u001b[1;33m\u001b[0m\u001b[1;33m\u001b[0m\u001b[0m\n\u001b[0;32m     14\u001b[0m         \u001b[0mprint\u001b[0m\u001b[1;33m(\u001b[0m\u001b[1;34m\"prime\"\u001b[0m\u001b[1;33m)\u001b[0m\u001b[1;33m\u001b[0m\u001b[1;33m\u001b[0m\u001b[0m\n\u001b[1;32m---> 15\u001b[1;33m \u001b[0mprime\u001b[0m\u001b[1;33m(\u001b[0m\u001b[0mli\u001b[0m\u001b[1;33m)\u001b[0m\u001b[1;33m\u001b[0m\u001b[1;33m\u001b[0m\u001b[0m\n\u001b[0m",
      "\u001b[1;32m<ipython-input-51-fff445fbacda>\u001b[0m in \u001b[0;36mprime\u001b[1;34m(li)\u001b[0m\n\u001b[0;32m      5\u001b[0m     \u001b[1;32mfor\u001b[0m \u001b[0mj\u001b[0m \u001b[1;32min\u001b[0m \u001b[0mrange\u001b[0m\u001b[1;33m(\u001b[0m\u001b[1;36m1\u001b[0m\u001b[1;33m,\u001b[0m\u001b[0mlen\u001b[0m\u001b[1;33m(\u001b[0m\u001b[0mli\u001b[0m\u001b[1;33m)\u001b[0m\u001b[1;33m)\u001b[0m\u001b[1;33m:\u001b[0m\u001b[1;33m\u001b[0m\u001b[1;33m\u001b[0m\u001b[0m\n\u001b[0;32m      6\u001b[0m         \u001b[1;32mfor\u001b[0m \u001b[0mi\u001b[0m \u001b[1;32min\u001b[0m \u001b[0mli\u001b[0m\u001b[1;33m:\u001b[0m\u001b[1;33m\u001b[0m\u001b[1;33m\u001b[0m\u001b[0m\n\u001b[1;32m----> 7\u001b[1;33m             \u001b[1;32mif\u001b[0m \u001b[0mli\u001b[0m\u001b[1;33m[\u001b[0m\u001b[0mi\u001b[0m\u001b[1;33m]\u001b[0m\u001b[1;33m%\u001b[0m\u001b[0mj\u001b[0m\u001b[1;33m==\u001b[0m\u001b[1;36m0\u001b[0m\u001b[1;33m:\u001b[0m\u001b[1;33m\u001b[0m\u001b[1;33m\u001b[0m\u001b[0m\n\u001b[0m\u001b[0;32m      8\u001b[0m                 \u001b[0mcount\u001b[0m\u001b[1;33m=\u001b[0m\u001b[0mcount\u001b[0m\u001b[1;33m+\u001b[0m\u001b[1;36m1\u001b[0m\u001b[1;33m\u001b[0m\u001b[1;33m\u001b[0m\u001b[0m\n\u001b[0;32m      9\u001b[0m                 \u001b[0mprint\u001b[0m\u001b[1;33m(\u001b[0m\u001b[0mi\u001b[0m\u001b[1;33m)\u001b[0m\u001b[1;33m\u001b[0m\u001b[1;33m\u001b[0m\u001b[0m\n",
      "\u001b[1;31mIndexError\u001b[0m: list index out of range"
     ]
    }
   ],
   "source": [
    "# functio  to identify prime range\n",
    "li=[1,2,3,4,5,6]\n",
    "def prime(li):\n",
    "    count=0\n",
    "    for j in range(1,len(li)):\n",
    "        for i in li:\n",
    "            if li[i]%j==0:\n",
    "                count=count+1\n",
    "                print(i)\n",
    "        \n",
    "    if count>2:\n",
    "        print(\"not prime\")\n",
    "    else:\n",
    "        print(\"prime\")\n",
    "prime(li)   "
   ]
  },
  {
   "cell_type": "code",
   "execution_count": 58,
   "metadata": {},
   "outputs": [
    {
     "name": "stdout",
     "output_type": "stream",
     "text": [
      "[503, 509, 521, 523, 541, 547, 557, 563, 569, 571, 577, 587, 593, 599]\n",
      "[503, 509, 521, 523, 541, 547, 557, 563, 569, 571, 577, 587, 593, 599]\n"
     ]
    }
   ],
   "source": [
    "#check prime\n",
    "def checkprime(n):\n",
    "    for i in range(2,n//2+1):\n",
    "        if n%i==0:\n",
    "            return False\n",
    "    return True\n",
    "lb,ub=500,600\n",
    "primeList1=[]\n",
    "primeList=list(filter(checkprime,range(lb,ub)))\n",
    "primeList1=[i for i in range(lb,ub) if checkprime(i)]\n",
    "print(primeList)\n",
    "print(primeList1)\n"
   ]
  },
  {
   "cell_type": "code",
   "execution_count": 82,
   "metadata": {},
   "outputs": [
    {
     "data": {
      "text/plain": [
       "[2, 4]"
      ]
     },
     "execution_count": 82,
     "metadata": {},
     "output_type": "execute_result"
    }
   ],
   "source": [
    "# Lambda functions\n",
    "#Anonymous function\n",
    "# it can be embeded into comprehension iterables\n",
    "a=lambda x:x*2\n",
    "list(map(lambda x:x**3,[1,2,3,4]))\n",
    "list(filter(lambda x: x%2==0,[1,2,3,4,5]))\n",
    "# a(2)\n"
   ]
  },
  {
   "cell_type": "code",
   "execution_count": 105,
   "metadata": {},
   "outputs": [
    {
     "name": "stdout",
     "output_type": "stream",
     "text": [
      "[0, 13, 21, 20, 10, 4, 7, 18, 1, 10]\n",
      "[2, 5, 21, 2, 6, 11, 10, 22, 3, 17]\n"
     ]
    },
    {
     "data": {
      "text/plain": [
       "[True, True, True, True, True, True, True, True, True, True]"
      ]
     },
     "execution_count": 105,
     "metadata": {},
     "output_type": "execute_result"
    }
   ],
   "source": [
    "from random import randint\n",
    "#internals1=[randint(0,25) for i in range(1,11)]\n",
    "#internals2=[randint(0,25) for i in range(1,11)]\n",
    "\n",
    "internals1=[0, 13, 21, 20, 10, 4, 7, 18, 1, 10]\n",
    "internals2=[2, 5, 21, 2, 6, 11, 10, 22, 3, 17]\n",
    "print(internals1)\n",
    "print(internals2)\n",
    "avg=list(map(lambda x,y:(x+y)/5,internals1,internals2))\n",
    "avg\n",
    "failedmarks=list(map(lambda x:x<10,avg))\n",
    "failedmarks\n",
    "\n"
   ]
  },
  {
   "cell_type": "markdown",
   "metadata": {},
   "source": [
    "# applying functional programing to the marks analysis appliedscience"
   ]
  },
  {
   "cell_type": "code",
   "execution_count": 24,
   "metadata": {},
   "outputs": [],
   "source": [
    "from random import randint\n",
    "#generate marks data\n",
    "def readMarksList(filepath):\n",
    "    with open(filepath,'r')as f:\n",
    "        filedata=f.read().split()\n",
    "    return list(map(int,filedata))\n",
    "def marksgenerate(n,lb,ub):\n",
    "    filename=\"./DataFiles/marks.txt\"\n",
    "    with open(filename,'w')as f:\n",
    "        for i in range(n):\n",
    "            marks=randint(lb,ub)\n",
    "            f.write(str(marks)+\"\\n\")\n",
    "    return\n",
    "marksgenerate(10,0,100)\n",
    "    "
   ]
  },
  {
   "cell_type": "code",
   "execution_count": 20,
   "metadata": {},
   "outputs": [
    {
     "name": "stdout",
     "output_type": "stream",
     "text": [
      "34\n",
      "\n",
      "7\n",
      "\n",
      "83\n",
      "\n",
      "89\n",
      "\n",
      "4\n",
      "213\n"
     ]
    },
    {
     "data": {
      "text/plain": [
       "53"
      ]
     },
     "execution_count": 20,
     "metadata": {},
     "output_type": "execute_result"
    }
   ],
   "source": [
    "# def classaverage(filepath):\n",
    "    \n",
    "#     with open(filepath,'r')as f:\n",
    "#         sum=0\n",
    "#         c=0\n",
    "#         for i in f:\n",
    "#             print(i)\n",
    "#             sum=sum+int(i)\n",
    "#             c=c+1\n",
    "# #             print(i)\n",
    "# #             print(sum)\n",
    "#         print(c)\n",
    "#         print(sum)\n",
    "#         avg=sum//c\n",
    "#     return avg\n",
    "# filepath=\"./DataFiles/marks.txt\"\n",
    "# classaverage(filepath)\n",
    "            "
   ]
  },
  {
   "cell_type": "code",
   "execution_count": 58,
   "metadata": {},
   "outputs": [
    {
     "name": "stdout",
     "output_type": "stream",
     "text": [
      "['34', '7', '83', '89']\n"
     ]
    },
    {
     "data": {
      "text/plain": [
       "53"
      ]
     },
     "execution_count": 58,
     "metadata": {},
     "output_type": "execute_result"
    }
   ],
   "source": [
    "def ClassAverage(filepath):\n",
    "    with open(filepath,'r')as f:\n",
    "        filedata=f.read().split()\n",
    "        print(filedata)\n",
    "    markslist=list(map(int,filedata))\n",
    "    return sum(markslist)//len(markslist)\n",
    "\n",
    "filepath=\"./DataFiles/marks.txt\"\n",
    "ClassAverage(filepath)"
   ]
  },
  {
   "cell_type": "code",
   "execution_count": 64,
   "metadata": {},
   "outputs": [
    {
     "data": {
      "text/plain": [
       "25.0"
      ]
     },
     "execution_count": 64,
     "metadata": {},
     "output_type": "execute_result"
    }
   ],
   "source": [
    "def percentageFailed(filename):\n",
    "    markslist = readMarksList(filename)\n",
    "    failedcount = len(list(filter(lambda mark : mark < 40,markslist)))\n",
    "    return (failedcount/len(markslist))/(1/100)\n",
    "filename=\"./DataFiles/marks.txt\"\n",
    "percentageFailed(filename)"
   ]
  },
  {
   "cell_type": "code",
   "execution_count": 65,
   "metadata": {},
   "outputs": [
    {
     "data": {
      "text/plain": [
       "75.0"
      ]
     },
     "execution_count": 65,
     "metadata": {},
     "output_type": "execute_result"
    }
   ],
   "source": [
    "def percentagePassed(filename):\n",
    "    return 100 - percentageFailed(filename)\n",
    "percentagePassed(filename)"
   ]
  },
  {
   "cell_type": "code",
   "execution_count": 67,
   "metadata": {},
   "outputs": [
    {
     "data": {
      "text/plain": [
       "0.0"
      ]
     },
     "execution_count": 67,
     "metadata": {},
     "output_type": "execute_result"
    }
   ],
   "source": [
    "def percentageDistinction(filename):\n",
    "    markslist = readMarksList(filename)\n",
    "    distinctioncount = len(list(filter(lambda mark : mark > 75,markslist)))\n",
    "    return (distinctioncount/len(markslist))/(1/100)\n",
    "percentageDistinction(filename)"
   ]
  },
  {
   "cell_type": "code",
   "execution_count": null,
   "metadata": {},
   "outputs": [],
   "source": [
    "# Data encryption\n",
    "key-mapping of characters with replaced\n",
    "0->#\n",
    "1->$\n"
   ]
  },
  {
   "cell_type": "code",
   "execution_count": 71,
   "metadata": {},
   "outputs": [
    {
     "data": {
      "text/plain": [
       "'successfully added'"
      ]
     },
     "execution_count": 71,
     "metadata": {},
     "output_type": "execute_result"
    }
   ],
   "source": [
    "#function to generate key for encryption\n",
    "kpath='./DataFiles/key.txt'\n",
    "def generateKey(kpath):\n",
    "    with open(kpath,'w')as f:\n",
    "        for i in range(10):\n",
    "            if i<6:\n",
    "                f.write(str(i)+' '+str(i+4)+'\\n')\n",
    "            else:\n",
    "                f.write(str(i)+' '+str(i-6)+'\\n')\n",
    "    return \"successfully added\"         \n",
    "generateKey(kpath)       "
   ]
  },
  {
   "cell_type": "code",
   "execution_count": 25,
   "metadata": {},
   "outputs": [],
   "source": [
    "keyfile=\"./DataFiles/key.txt\"\n",
    "def dictionaryKeyFile(keyfile):\n",
    "    key={}\n",
    "    with open(keyfile,'r')as f:\n",
    "        for line in f:\n",
    "            line=line.split()\n",
    "            key[line[0]]=line[1]\n",
    "        return key\n",
    "dictionaryKeyFile(keyfile)\n",
    "        \n",
    "        \n",
    "def encryptionKeyFile(datafile,keyfile):\n",
    "    key=dictionaryKeyFile(keyfile)\n",
    "    \n",
    "    with open(datafile,'r')as f:\n",
    "        filedata=f.read().split()\n",
    "    with open(\"./DataFiles/encryptedmarks.txt\",'w')as f:\n",
    "        for mark in filedata:\n",
    "            line=''\n",
    "            for n in mark:\n",
    "                line+=key[n]\n",
    "            f.write(line+'\\n')\n",
    "        return \n",
    "datafile=\"./DataFiles/marks.txt\"\n",
    "encryptionKeyFile(datafile,keyfile)\n",
    "\n",
    "    \n",
    "        "
   ]
  },
  {
   "cell_type": "code",
   "execution_count": 31,
   "metadata": {},
   "outputs": [],
   "source": [
    "def decryptionKeyFile(datafile,keyfile):\n",
    "    key=dictionaryKeyFile(keyfile)\n",
    "    newkey={}\n",
    "    for i,j in key.items():\n",
    "        newkey[j]=i\n",
    "    with open(datafile,'r')as f:\n",
    "        encryoteddata=f.read().split('\\n')\n",
    "    with open(\"./DataFiles/decryptedmarks.txt\",'w')as f:\n",
    "        for encryptedmark in encryoteddata:\n",
    "            line=\"\"\n",
    "            for n in encryptedmark:\n",
    "                line+=newkey[n]\n",
    "            f.write(line+\"\\n\")\n",
    "        return\n",
    "datafile=\"./DataFiles/encryptedmarks.txt\"\n",
    "decryptionKeyFile(datafile,keyfile)\n",
    "            "
   ]
  },
  {
   "cell_type": "code",
   "execution_count": 15,
   "metadata": {},
   "outputs": [
    {
     "name": "stdout",
     "output_type": "stream",
     "text": [
      "5\n",
      "b.com\n",
      "a.com\n",
      "a.com\n",
      "a.com\n",
      "a.com\n",
      "4\n",
      "b.com\n",
      "a.com\n"
     ]
    }
   ],
   "source": [
    "def readurl(n):\n",
    "     urls=[]\n",
    "    for i in range(n):\n",
    "        url=input()\n",
    "        urls.append(url)\n",
    "#     print(urls)\n",
    "    urls1=[]\n",
    "    c=1\n",
    "    for j in urls:\n",
    "        if j not in urls1:\n",
    "            urls1.append(j)\n",
    "        else:\n",
    "            c=c+1\n",
    "    print(c)\n",
    "    for k in urls1:\n",
    "        print(k)\n",
    "#     print(urls1)\n",
    "#     print(c)\n",
    "n=int(input())       \n",
    "readurl(n)\n",
    "        "
   ]
  },
  {
   "cell_type": "code",
   "execution_count": 19,
   "metadata": {},
   "outputs": [
    {
     "name": "stdout",
     "output_type": "stream",
     "text": [
      "2\n",
      "hacker.com\n",
      "google.com\n",
      "Counter({'hacker.com': 1, 'google.com': 1})\n",
      "['hacker.com', 'google.com']\n"
     ]
    }
   ],
   "source": [
    "from collections import Counter\n",
    "def readurl(n):\n",
    "    urls=[]\n",
    "    for i in range(n):\n",
    "        url=input()\n",
    "        urls.append(url)\n",
    "    print(Counter(urls))\n",
    "    print(urls)\n",
    "n=int(input())       \n",
    "readurl(n)\n",
    "        "
   ]
  },
  {
   "cell_type": "code",
   "execution_count": 33,
   "metadata": {},
   "outputs": [
    {
     "data": {
      "text/plain": [
       "{('0', '4'), ('2', '6'), ('4', '8'), ('6', '0'), ('8', '2')}"
      ]
     },
     "execution_count": 33,
     "metadata": {},
     "output_type": "execute_result"
    }
   ],
   "source": [
    "# funtion to compehension\n",
    "keyfile='DataFiles/key.txt'\n",
    "key=dictionaryKeyFile(keyfile)\n",
    "evenkeys={item for item in key.items() if int(item[0])%2==0 }\n",
    "evenkeys"
   ]
  },
  {
   "cell_type": "code",
   "execution_count": 34,
   "metadata": {},
   "outputs": [
    {
     "data": {
      "text/plain": [
       "{('0', '4'),\n",
       " ('1', '5'),\n",
       " ('2', '6'),\n",
       " ('3', '7'),\n",
       " ('4', '8'),\n",
       " ('5', '9'),\n",
       " ('6', '0'),\n",
       " ('7', '1'),\n",
       " ('8', '2'),\n",
       " ('9', '3')}"
      ]
     },
     "execution_count": 34,
     "metadata": {},
     "output_type": "execute_result"
    }
   ],
   "source": [
    "keyfile='DataFiles/key.txt'\n",
    "key=dictionaryKeyFile(keyfile)\n",
    "evenkeys={item for item in key.items()}\n",
    "evenkeys"
   ]
  },
  {
   "cell_type": "code",
   "execution_count": 35,
   "metadata": {},
   "outputs": [
    {
     "data": {
      "text/plain": [
       "{'0', '1', '2', '3', '4', '5', '6', '7', '8', '9'}"
      ]
     },
     "execution_count": 35,
     "metadata": {},
     "output_type": "execute_result"
    }
   ],
   "source": [
    "keyfile='DataFiles/key.txt'\n",
    "key=dictionaryKeyFile(keyfile)\n",
    "evenkeys={item for item in key }\n",
    "evenkeys"
   ]
  },
  {
   "cell_type": "code",
   "execution_count": 39,
   "metadata": {},
   "outputs": [
    {
     "data": {
      "text/plain": [
       "{'0', '1', '2', '3', '4', '5', '6', '7', '8', '9'}"
      ]
     },
     "execution_count": 39,
     "metadata": {},
     "output_type": "execute_result"
    }
   ],
   "source": [
    "evenkeys\n"
   ]
  },
  {
   "cell_type": "code",
   "execution_count": null,
   "metadata": {},
   "outputs": [],
   "source": []
  }
 ],
 "metadata": {
  "kernelspec": {
   "display_name": "Python 3",
   "language": "python",
   "name": "python3"
  },
  "language_info": {
   "codemirror_mode": {
    "name": "ipython",
    "version": 3
   },
   "file_extension": ".py",
   "mimetype": "text/x-python",
   "name": "python",
   "nbconvert_exporter": "python",
   "pygments_lexer": "ipython3",
   "version": "3.7.3"
  }
 },
 "nbformat": 4,
 "nbformat_minor": 2
}
