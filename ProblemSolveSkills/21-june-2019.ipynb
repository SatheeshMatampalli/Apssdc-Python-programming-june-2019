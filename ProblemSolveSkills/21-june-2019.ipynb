{
 "cells": [
  {
   "cell_type": "code",
   "execution_count": null,
   "metadata": {},
   "outputs": [],
   "source": [
    "n=int(input())\n",
    "l1=[]\n",
    "l2=[]\n",
    "for i in range(n):\n",
    "    st=input()\n",
    "    st1=input()\n",
    "    l1=l1.append(list(map(int,st)))\n",
    "    l2=l2.append(list(map(int,st1)))\n",
    "print(l1)\n",
    "print(l2)"
   ]
  },
  {
   "cell_type": "code",
   "execution_count": 5,
   "metadata": {},
   "outputs": [
    {
     "data": {
      "text/plain": [
       "{'name': [9776047715, 'm.satheesh566@gmail.com'],\n",
       " 'name2:': [9959169916, 'raj@gmail.com'],\n",
       " 'name3': [9985612519, 'dad@gmail.com']}"
      ]
     },
     "execution_count": 5,
     "metadata": {},
     "output_type": "execute_result"
    }
   ],
   "source": [
    "#contacts\n",
    "contacts={\"name\":[9776047715,\"m.satheesh566@gmail.com\"],\"name2:\":[9959169916,\"raj@gmail.com\"],\"name3\":[9985612519,\"dad@gmail.com\"]}\n",
    "contacts"
   ]
  },
  {
   "cell_type": "code",
   "execution_count": 15,
   "metadata": {},
   "outputs": [
    {
     "name": "stdout",
     "output_type": "stream",
     "text": [
      "True\n"
     ]
    },
    {
     "data": {
      "text/plain": [
       "<re.Match object; span=(38, 42), match='muni'>"
      ]
     },
     "execution_count": 15,
     "metadata": {},
     "output_type": "execute_result"
    }
   ],
   "source": [
    "#add contact in to a contactfile\n",
    "#from packages import validators\n",
    "import re\n",
    "# def phonevalidate(num):\n",
    "#     pattern='^[6-9][0-9]{9}$|^[0][6-9][0-9]{9}|[+][9][1][6-9][0-9]{9}$'\n",
    "#     if re.match(pattern,str(num)):\n",
    "#         #print(\"valid no\")\n",
    "#         return True\n",
    "#     else:\n",
    "        \n",
    "#         #print(\"notnvalid\")\n",
    "#         return False\n",
    "# def emailValidator(email):\n",
    "#    pattern = \"^[0-9a-z][0-9a-z-.]{4,13}[0-9a-z][@][a-z0-9]{3,18}[.][a-z]{2,4}$\"\n",
    "#    if re.match(pattern,email):\n",
    "#         return True\n",
    "#     return False\n",
    "# phonevalidate(9676047715)\n",
    "def addcontacts(name,phone,email):\n",
    "    \n",
    "    #store data in to file(name,phone,email)\n",
    "    filename=\"DataFiles/contacts.txt\"\n",
    "    if not contactexists(name):\n",
    "        if phonevalidate()\n",
    "    with open(filename, 'a') as f:\n",
    "        line=name + \",\"+phone+ \" ,\"+email+ '\\n'\n",
    "        f.write(line)\n",
    "    print(name,\"added to contacts\")\n",
    "    return\n",
    "\n",
    "#contact existing or not checking\n",
    "def contactsexist(name):\n",
    "    filename=\"DataFiles/contacts.txt\"\n",
    "    with open(filename,'r') as f:\n",
    "        filedata=f.read()\n",
    "    return re.search(name,filedata)\n",
    "if contactsexist(\"vinod\"):\n",
    "    print(\"True\")\n",
    "else:\n",
    "    print(\"False\")\n",
    "contactsexist(\"muni\")\n",
    "# addcontacts(\"muni\",str(9704012649),\"muni@gmail.com\")\n"
   ]
  },
  {
   "cell_type": "code",
   "execution_count": 1,
   "metadata": {},
   "outputs": [
    {
     "data": {
      "text/plain": [
       "'vinod,9701550994 ,vinod@gmail.com\\n12,muni,muni@gmail.com\\n123,9704012649 ,muni@gmail.com\\n'"
      ]
     },
     "execution_count": 1,
     "metadata": {},
     "output_type": "execute_result"
    }
   ],
   "source": [
    "filename = './DataFiles/contacts.txt'\n",
    "def csvToList(filename):\n",
    "    li = []\n",
    "    with open(filename, 'r') as f:\n",
    "        for line in f:\n",
    "            li.append(line.split(','))\n",
    "    return li\n",
    "\n",
    "def listToFile(li):\n",
    "    s = ''\n",
    "    for i in li:\n",
    "        s += ','.join(i)\n",
    "    return s\n",
    "    \n",
    "li = csvToList(filename)\n",
    "listToFile(li)"
   ]
  },
  {
   "cell_type": "code",
   "execution_count": 26,
   "metadata": {},
   "outputs": [
    {
     "name": "stdout",
     "output_type": "stream",
     "text": [
      "sindhuja added to contacts\n"
     ]
    }
   ],
   "source": [
    "# Function to add contact to contacts n text file\n",
    "from packages.validatorss import phoneNumberValidator as pnv, emailValidator as ev\n",
    "#from Packages.validators import emailValidator as ev\n",
    "\n",
    "\n",
    "def addContact(name, phone, email):\n",
    "    # store data as name,phone,email in the contacts file    \n",
    "    filename = 'DataFiles/contacts.txt'\n",
    "    if not checkContactExists(name):\n",
    "        if pnv(phone) and ev(email):\n",
    "            with open(filename, 'a') as f:\n",
    "                line = name + ',' + str(phone) + ',' + email + '\\n'\n",
    "                f.write(line)\n",
    "            print(name, 'added to contacts')\n",
    "        else:\n",
    "            print('Invalid Phone number or Email')\n",
    "            return\n",
    "    else:\n",
    "        print(name, 'already exists')\n",
    "    return\n",
    "# Function to check if contact already exists\n",
    "\n",
    "import re\n",
    "# Function to check if contact already exists\n",
    "def checkContactExists(name):\n",
    "    filename = 'DataFiles/contacts.txt'\n",
    "    with open(filename, 'r') as f:\n",
    "        filedata = f.read()\n",
    "        pattern = name+','\n",
    "    return re.search(pattern, filedata)\n",
    "\n",
    "addContact('sindhuja',8886265593,\"sindhu123@gmail.com\")"
   ]
  },
  {
   "cell_type": "code",
   "execution_count": null,
   "metadata": {},
   "outputs": [],
   "source": [
    "# Function to update contact n text file\n",
    "from packages.validatorss import phoneNumberValidator as pnv, emailValidator as ev\n",
    "#from Packages.validators import emailValidator as ev\n",
    "\n",
    "\n",
    "def updatecontact(name, phone, email):\n",
    "    filename = 'DataFiles/contacts.txt'\n",
    "    with open(filename,'r') as f:\n",
    "        print(f.read())\n",
    "        \n",
    "        \n",
    " \n",
    "\n",
    "addContact('sindhuja',8886265593,\"sindhu123@gmail.com\")"
   ]
  },
  {
   "cell_type": "code",
   "execution_count": 31,
   "metadata": {},
   "outputs": [
    {
     "data": {
      "text/plain": [
       "[['vinod', '9701550994 ', 'vinod@gmail.com\\n'],\n",
       " ['12', 'muni', 'muni@gmail.com\\n'],\n",
       " ['123', '9704012649 ', 'muni@gmail.com\\n'],\n",
       " ['sindhuja', '8886265593', 'sindhu123@gmail.com\\n']]"
      ]
     },
     "execution_count": 31,
     "metadata": {},
     "output_type": "execute_result"
    }
   ],
   "source": [
    "def csvToList(filename):\n",
    "    with open(filename,'r') as f:\n",
    "        f1=[]\n",
    "        for line in f:\n",
    "            f1.append(line.split(sep=','))\n",
    "        return f1\n",
    "csvToList('DataFiles/contacts.txt')"
   ]
  },
  {
   "cell_type": "code",
   "execution_count": 35,
   "metadata": {},
   "outputs": [
    {
     "data": {
      "text/plain": [
       "1"
      ]
     },
     "execution_count": 35,
     "metadata": {},
     "output_type": "execute_result"
    }
   ],
   "source": [
    "def searchwithreturn(filename,name):\n",
    "    f=csvToList(filename)\n",
    "    flag=0\n",
    "    for i in range(len(f)):\n",
    "        if name==f[i][0]:\n",
    "            flag=1\n",
    "            return 1\n",
    "    if flag==False:\n",
    "        return -1\n",
    "searchwithreturn('DataFiles/contacts.txt',\"sindhuja\")"
   ]
  },
  {
   "cell_type": "code",
   "execution_count": 41,
   "metadata": {},
   "outputs": [],
   "source": [
    "li=[]"
   ]
  },
  {
   "cell_type": "code",
   "execution_count": 42,
   "metadata": {
    "scrolled": true
   },
   "outputs": [
    {
     "data": {
      "text/plain": [
       "''"
      ]
     },
     "execution_count": 42,
     "metadata": {},
     "output_type": "execute_result"
    }
   ],
   "source": [
    "def listToFile(li):\n",
    "    s=''\n",
    "    for i in li:\n",
    "        s+=','.join(i)\n",
    "    return s\n",
    "listToFile(li)"
   ]
  },
  {
   "cell_type": "code",
   "execution_count": 44,
   "metadata": {},
   "outputs": [
    {
     "name": "stdout",
     "output_type": "stream",
     "text": [
      "name updated\n"
     ]
    }
   ],
   "source": [
    "def updatecontact(filename,name,f,value):\n",
    "    if searchwithreturn(filename,name)>=0:\n",
    "        i=searchwithreturn(filename,name)\n",
    "        if((int(f)==0)):\n",
    "            f1=csvToList(filename)\n",
    "            f1[i].pop(0)\n",
    "            f1[i].insert(0,value)\n",
    "            s=listToFile(f1)\n",
    "            with open(filename,'w')as f:\n",
    "                f.write(s)\n",
    "                print(\"name updated\")\n",
    "        elif(int(f)==1):\n",
    "            f1=csvToList(filename)\n",
    "            f1[i].pop(1)\n",
    "            f1[i].insert(1,value)\n",
    "            s=listToFile(f1)\n",
    "            with open(filename,'w')as f:\n",
    "                f.write(s)\n",
    "                print(\"phone no is updated\")\n",
    "        elif(int(f)==2):\n",
    "            f1=csvToList(filename)\n",
    "            f1[i].pop(2)\n",
    "            f1[i].insert(2,value)\n",
    "            s=listToFile(f1)\n",
    "            with open(filename,'w')as f:\n",
    "                f.write(s)\n",
    "                print(\"emial is updated\")\n",
    "        else:\n",
    "            print(\"contact not found\")\n",
    "filename=\"./DataFiles/contacts.txt\"\n",
    "updatecontact(filename,\"sindhuja\",0,\"Kumar\")\n",
    "                "
   ]
  },
  {
   "cell_type": "code",
   "execution_count": null,
   "metadata": {},
   "outputs": [],
   "source": []
  }
 ],
 "metadata": {
  "kernelspec": {
   "display_name": "Python 3",
   "language": "python",
   "name": "python3"
  }
 },
 "nbformat": 4,
 "nbformat_minor": 2
}
