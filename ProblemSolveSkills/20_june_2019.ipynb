{
 "cells": [
  {
   "cell_type": "markdown",
   "metadata": {},
   "source": [
    "## Day Objectives:\n",
    "- Regular Expressions\n",
    "    - Constructing Regular Expressions for various use cases\n",
    "    - Regular Expressions Module and Related in python\n",
    "    - improving contact application\n",
    "- File Handling\n",
    "    - Text Files\n",
    "-   - Upgrading the contacts Application to store contact information in a text file\n"
   ]
  },
  {
   "cell_type": "markdown",
   "metadata": {},
   "source": [
    "## Regular Expression\n",
    "- pattern matching\n",
    "- Symbolic notation of a pattern\n",
    "        - pattern: Format which repeats\n",
    "        - pattern(RE) represents the set of all strings matches that pattern\n",
    "- [0-9]->any digit\n",
    "- [a-z]->any lower case alphabet\n",
    "-      -> All single digits multiples of 2\n"
   ]
  },
  {
   "cell_type": "markdown",
   "metadata": {},
   "source": [
    "### [0-9].....>in between take any value\n",
    "- `^[0-9]`........>statr only in betenn no \n",
    "- `^[0-9]{1}`.......>take only one no in between that\n",
    "- `[0-9]+`............>takes no split by space\n",
    "- `[0-9]{3}`.....>only 3 digits\n",
    "- `[0-9]*8$`......>all multiples of 10\n",
    "- `^([1-9][0-9]*[05])|([5])$`.......>multiples of 5\n",
    "- `^([0-9]){9}`......>all 10 digit numbers\n",
    "- `[a][b][c][d]`..........>search word abcd or `(abcd)`\n",
    "- `[6-9][0-9]{9}$|^[0][6-9][0-9]{9}|^[+][9][1][6-9][0-9]{9}$` ...............>phone no validation\n",
    "- `^[0-9a-z][0-9a-z_.]{4,13}[0-9a-z][@][a-z0-9]{3,18}[.][a-z]{2,4}$`............>gmail,validation\n",
    "        - username\n",
    "                - length of uname:[6,15]\n",
    "                - no special characters others than _\n",
    "                - should not begin and end with _\n",
    "                - characterset :all digits and alphabet\n",
    "        - domain:\n",
    "                - length of domain :[3,18]\n",
    "                - no special characters\n",
    "                - character set:all digits and alphabet\n",
    "        - extension \n",
    "                - length of extension:[2,4]\n",
    "                - no special character\n",
    "                - character set:alphabet\n",
    "\n",
    "\n",
    "- Any string of length 5 and start with a and end withz\n",
    "  - ^[a]...[z]$..........>... means it takes any values 3 in b/w\n",
    "  - ^[a].*[z]$............>it is also takes any values\n",
    "  \n",
    "\n"
   ]
  },
  {
   "cell_type": "code",
   "execution_count": 1,
   "metadata": {},
   "outputs": [
    {
     "name": "stdout",
     "output_type": "stream",
     "text": [
      "notnvalid\n"
     ]
    }
   ],
   "source": [
    "import re\n",
    "def phonevalidate(num):\n",
    "    pattern='^[6-9][0-9]{9}$|^[0][6-9][0-9]{9}|[+][9][1][6-9][0-9]{9}$'\n",
    "    if re.match(pattern,str(num)):\n",
    "        print(\"valid no\")\n",
    "    else:\n",
    "        print(\"notnvalid\")\n",
    "    return\n",
    "phonevalidate(96760477158)"
   ]
  },
  {
   "cell_type": "markdown",
   "metadata": {},
   "source": [
    "### File Handling in python\n",
    "- file...>document containing information residing \n",
    "- types..>text,pdf,csv.etc\n",
    "- file i\\o ....>channeling i/o data to files\n",
    "- default i/o channels:::keyboard /screen\n",
    "- change i/o channel to files for reading and writing\n",
    "- read file -->input from file\n",
    "- write to a file...>output to a file\n",
    "- Read/write file--->open(filename,mode)\n"
   ]
  },
  {
   "cell_type": "code",
   "execution_count": 5,
   "metadata": {},
   "outputs": [
    {
     "name": "stdout",
     "output_type": "stream",
     "text": [
      "Welcome satheesh\n",
      "goodEvening satheesh\n",
      "are you single\n",
      "yes ohhhh!!!!\n",
      "why dude\n",
      "?\n"
     ]
    }
   ],
   "source": [
    "#function to read file\n",
    "def readfile(filename,mode):\n",
    "    f=open(filename,mode)\n",
    "    \n",
    "    print(f.read())\n",
    "readfile(\"DataFiles/file1.txt\",\"r\")"
   ]
  },
  {
   "cell_type": "code",
   "execution_count": 6,
   "metadata": {},
   "outputs": [
    {
     "name": "stdout",
     "output_type": "stream",
     "text": [
      "Welcome satheesh\n",
      "\n",
      "goodEvening satheesh\n",
      "\n",
      "are you single\n",
      "\n",
      "yes ohhhh!!!!\n",
      "\n",
      "why dude\n",
      "\n",
      "?\n"
     ]
    }
   ],
   "source": [
    "#print line wise\n",
    "def printFileDatalines(filename):\n",
    "    f=open(filename,'r')\n",
    "    for line in f:\n",
    "        print(line)\n",
    "    return\n",
    "printFileDatalines(\"DataFiles/file1.txt\")"
   ]
  },
  {
   "cell_type": "code",
   "execution_count": 7,
   "metadata": {},
   "outputs": [
    {
     "name": "stdout",
     "output_type": "stream",
     "text": [
      "Welcome satheesh\n",
      " goodEvening satheesh\n",
      " are you single\n",
      " yes ohhhh!!!!\n",
      " why dude\n",
      " ? "
     ]
    }
   ],
   "source": [
    "def printFileDatalines(filename):\n",
    "    with open(filename,'r') as f:\n",
    "        for line in f:\n",
    "            print(line,end=\" \")\n",
    "        return\n",
    "printFileDatalines(\"DataFiles/file1.txt\")"
   ]
  },
  {
   "cell_type": "code",
   "execution_count": 9,
   "metadata": {},
   "outputs": [
    {
     "name": "stdout",
     "output_type": "stream",
     "text": [
      "satheesh\n"
     ]
    }
   ],
   "source": [
    "#write data into file\n",
    "def writedata(filename,filedata):\n",
    "    with open(filename,'w') as f:\n",
    "        f.write(filedata)\n",
    "    return\n",
    "filedata=input()\n",
    "filename=\"./DataFiles/file2.txt\"\n",
    "writedata(filename,filedata)"
   ]
  },
  {
   "cell_type": "code",
   "execution_count": 13,
   "metadata": {},
   "outputs": [
    {
     "name": "stdout",
     "output_type": "stream",
     "text": [
      "welcome vind\n"
     ]
    }
   ],
   "source": [
    "#append data to file\n",
    "def appendDataFile(filename,filedata):\n",
    "    with open(filename,'a') as f:\n",
    "#         for line in filedata:\n",
    "          f.write('\\n'+filedata)\n",
    "    return\n",
    "filedata=input()\n",
    "filename=\"./DataFiles/file2.txt\"\n",
    "appendDataFile(filename,filedata)"
   ]
  },
  {
   "cell_type": "code",
   "execution_count": null,
   "metadata": {},
   "outputs": [],
   "source": []
  }
 ],
 "metadata": {
  "kernelspec": {
   "display_name": "Python 3",
   "language": "python",
   "name": "python3"
  },
  "language_info": {
   "codemirror_mode": {
    "name": "ipython",
    "version": 3
   },
   "file_extension": ".py",
   "mimetype": "text/x-python",
   "name": "python",
   "nbconvert_exporter": "python",
   "pygments_lexer": "ipython3",
   "version": "3.7.3"
  }
 },
 "nbformat": 4,
 "nbformat_minor": 2
}
