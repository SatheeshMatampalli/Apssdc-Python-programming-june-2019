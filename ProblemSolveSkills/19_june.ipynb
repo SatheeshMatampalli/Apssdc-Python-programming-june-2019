{
 "cells": [
  {
   "cell_type": "code",
   "execution_count": 2,
   "metadata": {},
   "outputs": [
    {
     "name": "stdout",
     "output_type": "stream",
     "text": [
      "5\n",
      "1 2 3 4 5\n",
      "120\n"
     ]
    }
   ],
   "source": [
    "n=int(input())\n",
    "num=input().split()\n",
    "a=1\n",
    "if len(num)==n:\n",
    "    num=list(map(int,num))\n",
    "    for i in num:\n",
    "        a=(a*i)%(10**9+7)\n",
    "print(a)\n",
    "\n"
   ]
  },
  {
   "cell_type": "code",
   "execution_count": 2,
   "metadata": {},
   "outputs": [
    {
     "name": "stdout",
     "output_type": "stream",
     "text": [
      "180\n",
      "3\n",
      "640 500\n",
      "CROP IT\n",
      "120 300\n",
      "UPLOAD ANOTHER\n",
      "180 180\n",
      "ACCEPTED\n"
     ]
    }
   ],
   "source": [
    "#roy and profile picture\n",
    "l=int(input())\n",
    "size=int(input())\n",
    "for i in range(size):\n",
    "    hw=input().split()\n",
    "    h=int(hw[0])\n",
    "    w=int(hw[1])\n",
    "    if h>l and w>l:\n",
    "        print(\"CROP IT\")\n",
    "    elif (l>h or l<w) or (l<h or l>w):\n",
    "        print(\"UPLOAD ANOTHER\")\n",
    "    elif h==l and w==l:\n",
    "        print(\"ACCEPTED\")\n"
   ]
  },
  {
   "cell_type": "code",
   "execution_count": 3,
   "metadata": {},
   "outputs": [
    {
     "name": "stdout",
     "output_type": "stream",
     "text": [
      "10\n"
     ]
    }
   ],
   "source": [
    "def countdiv(i,j,k):\n",
    "    count=0\n",
    "    for a in range(i,j+1):\n",
    "        if a%k==0:\n",
    "            count=count+1\n",
    "    print(count)\n",
    "countdiv(1,10,1)\n"
   ]
  },
  {
   "cell_type": "code",
   "execution_count": 33,
   "metadata": {},
   "outputs": [
    {
     "name": "stdout",
     "output_type": "stream",
     "text": [
      "1401601499\n",
      "Legal ISBN\n"
     ]
    }
   ],
   "source": [
    "#Book of potion making\n",
    "# n=input(\"\")\n",
    "\n",
    "# for i in n:\n",
    "#     n=list(map(int,n))\n",
    "# print(n)\n",
    "\n",
    "n=input()\n",
    "if len(n)==10:\n",
    "    l=[]\n",
    "    l.extend(n)\n",
    "    for i in l:\n",
    "        l=list(map(int,l))\n",
    "    sum=0\n",
    "    for j in range(0,len(l)):\n",
    "        a=l[j]*(j+1)\n",
    "        sum=sum+a\n",
    "    if sum%11==0:\n",
    "        print(\"Legal ISBN\")\n",
    "    else:\n",
    "        print(\"Illegal ISBN\")\n",
    "else:\n",
    "    print(\"Illegal ISBN\")\n",
    "\n",
    "\n",
    "\n"
   ]
  },
  {
   "cell_type": "code",
   "execution_count": 1,
   "metadata": {},
   "outputs": [
    {
     "name": "stdout",
     "output_type": "stream",
     "text": [
      "1\n",
      "1\n",
      "4\n",
      "4\n",
      "6\n",
      "6\n",
      "42\n"
     ]
    }
   ],
   "source": [
    "#life universe everything\n",
    "while True:\n",
    "    a=int(input())\n",
    "    if a==42:\n",
    "        break\n",
    "    print(a)"
   ]
  },
  {
   "cell_type": "code",
   "execution_count": 5,
   "metadata": {},
   "outputs": [
    {
     "name": "stdout",
     "output_type": "stream",
     "text": [
      "a\n",
      "d\n",
      "b\n"
     ]
    }
   ],
   "source": [
    "a=[\"a\",\"b\",\"c d\",\"d\"]\n",
    "print(a[0])\n",
    "print(a[4-1])\n",
    "print(a[2-1])\n"
   ]
  },
  {
   "cell_type": "code",
   "execution_count": null,
   "metadata": {},
   "outputs": [],
   "source": []
  }
 ],
 "metadata": {
  "kernelspec": {
   "display_name": "Python 3",
   "language": "python",
   "name": "python3"
  },
  "language_info": {
   "codemirror_mode": {
    "name": "ipython",
    "version": 3
   },
   "file_extension": ".py",
   "mimetype": "text/x-python",
   "name": "python",
   "nbconvert_exporter": "python",
   "pygments_lexer": "ipython3",
   "version": "3.7.3"
  }
 },
 "nbformat": 4,
 "nbformat_minor": 2
}
