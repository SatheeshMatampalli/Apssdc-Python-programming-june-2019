{
 "cells": [
  {
   "cell_type": "code",
   "execution_count": 4,
   "metadata": {},
   "outputs": [
    {
     "name": "stdout",
     "output_type": "stream",
     "text": [
      "12\n",
      "['Welcome', 'satheesh', 'goodEvening', 'satheesh', 'are', 'you', 'single', 'yes', 'ohhhh!!!!', 'why', 'dude', '?']\n",
      "None\n"
     ]
    }
   ],
   "source": [
    "def readFilewordcount(filepath):\n",
    "    c=0\n",
    "    with open(filepath,'r') as f:\n",
    "        filedata=f.read().split()\n",
    "        print(len(filedata))\n",
    "        print(filedata)\n",
    "filepath=\"./DataFiles/file1.txt\"\n",
    "print(readFilewordcount(filepath))"
   ]
  },
  {
   "cell_type": "code",
   "execution_count": 1,
   "metadata": {},
   "outputs": [
    {
     "data": {
      "text/plain": [
       "[1, 2, 3, 4]"
      ]
     },
     "execution_count": 1,
     "metadata": {},
     "output_type": "execute_result"
    }
   ],
   "source": [
    "def uniqueData(li):\n",
    "    unique=[]\n",
    "    for element in li:\n",
    "        if element not in unique:\n",
    "            unique.append(element)\n",
    "    return unique\n",
    "li=[1,2,3,3,4,1]\n",
    "uniqueData(li)"
   ]
  },
  {
   "cell_type": "code",
   "execution_count": 26,
   "metadata": {},
   "outputs": [
    {
     "name": "stdout",
     "output_type": "stream",
     "text": [
      "0\n",
      "0\n",
      "0\n",
      "0\n",
      "0\n",
      "0\n",
      "0\n",
      "0\n",
      "0\n",
      "0\n",
      "0\n",
      "0\n",
      "0\n"
     ]
    }
   ],
   "source": [
    "#frequency distribution data\n",
    "\n",
    "\n",
    "def frequencydist(filepath):\n",
    "    #dictionary to use to store \n",
    "    # key-->unique words\n",
    "    #values..>count of unique words\n",
    "\n",
    "    # two lists\n",
    "        #allowwords list\n",
    "        #unique word list\n",
    "    #set \n",
    "    allwords=wordsFromFile(filepath)\n",
    "    uniquewords=uniqueData(filepath)\n",
    "    for word in uniquewords:\n",
    "        count1=allwords.count(word)\n",
    "        print(count1)\n",
    "    return\n",
    "    #     unique=[]\n",
    "#     for element in allwords:\n",
    "#         if element not in unique:\n",
    "#             unique.append(element)\n",
    "#     return unique\n",
    "filepath=\"./DataFiles/file1.txt\"\n",
    "frequencydist(filepath)\n",
    "        \n",
    "    \n",
    "    "
   ]
  },
  {
   "cell_type": "code",
   "execution_count": null,
   "metadata": {},
   "outputs": [],
   "source": []
  },
  {
   "cell_type": "code",
   "execution_count": 22,
   "metadata": {},
   "outputs": [
    {
     "name": "stdout",
     "output_type": "stream",
     "text": [
      "Welcome satheesh\n",
      "goodEvening satheesh\n",
      "are you single\n",
      "yes ohhhh!!!!\n",
      "why dude\n"
     ]
    }
   ],
   "source": [
    "def readFile(filepath):\n",
    "    with open(filepath,'r') as f:\n",
    "        filedata=f.read()\n",
    "    return filedata\n",
    "filepath=\"./DataFiles/file1.txt\"\n",
    "print(readFile(filepath))"
   ]
  },
  {
   "cell_type": "code",
   "execution_count": 2,
   "metadata": {},
   "outputs": [
    {
     "data": {
      "text/plain": [
       "[['Welcome satheesh\\n'],\n",
       " ['goodEvening satheesh\\n'],\n",
       " ['are you single\\n'],\n",
       " ['yes ohhhh!!!!\\n'],\n",
       " ['why dude']]"
      ]
     },
     "execution_count": 2,
     "metadata": {},
     "output_type": "execute_result"
    }
   ],
   "source": [
    "def csvToList(filename):\n",
    "    with open(filename,'r') as f:\n",
    "        f1=[]\n",
    "        for line in f:\n",
    "            f1.append(line.split(sep=','))\n",
    "        return f1\n",
    "csvToList('DataFiles/file1.txt')"
   ]
  },
  {
   "cell_type": "code",
   "execution_count": 5,
   "metadata": {},
   "outputs": [
    {
     "data": {
      "text/plain": [
       "-1"
      ]
     },
     "execution_count": 5,
     "metadata": {},
     "output_type": "execute_result"
    }
   ],
   "source": []
  },
  {
   "cell_type": "code",
   "execution_count": 23,
   "metadata": {},
   "outputs": [
    {
     "data": {
      "text/plain": [
       "['Welcome satheesh',\n",
       " 'goodEvening satheesh',\n",
       " 'are you single',\n",
       " 'yes ohhhh!!!!',\n",
       " 'why dude']"
      ]
     },
     "execution_count": 23,
     "metadata": {},
     "output_type": "execute_result"
    }
   ],
   "source": [
    "#find and replace application\n",
    "    #count total no of occurances of a word\n",
    "    #if word is existing in line yes or no\n",
    "    #Replace all occurances with another word\n",
    "# def replaceapplication(filepath):\n",
    "    \n",
    "    \n",
    "    \n",
    "import re   \n",
    "# def wordcountFile(filepath):\n",
    "#     pattern='[\\n]'\n",
    "#     filedata=readFile(filepath)\n",
    "#     count=len(re.split(pattern,filedata))\n",
    "#     return count\n",
    "# filepath=\"/DataFiles/file1.txt\"\n",
    "def wordsFromFile(filepath):\n",
    "    pattern='[\\n]'\n",
    "    filedata=readFile(filepath)\n",
    "    allwordsList=re.split(pattern,filedata)\n",
    "    return allwordsList\n",
    "filepath=\"./DataFiles/file1.txt\"\n",
    "wordsFromFile(filepath)\n",
    "    "
   ]
  },
  {
   "cell_type": "code",
   "execution_count": 27,
   "metadata": {},
   "outputs": [],
   "source": [
    "# function to generate marks data for n students\n",
    "    #generate marks for students\n",
    "    \n",
    "from random import randint\n",
    "def generatemarks(n,lb,ub):\n",
    "    l=[]\n",
    "    with open(\"DataFiles/marks.txt\",'w') as f:\n",
    "        for i in range(0,n):\n",
    "            r=randint(lb,ub)\n",
    "            \n",
    "            f.write(str(r)+\"\\n\")\n",
    "            \n",
    "    return\n",
    "generatemarks(10000,0,100)\n",
    "        \n",
    "    "
   ]
  },
  {
   "cell_type": "code",
   "execution_count": 41,
   "metadata": {},
   "outputs": [
    {
     "name": "stdout",
     "output_type": "stream",
     "text": [
      "\n",
      "\n",
      "\n",
      "\n"
     ]
    },
    {
     "ename": "TypeError",
     "evalue": "'int' object is not subscriptable",
     "output_type": "error",
     "traceback": [
      "\u001b[1;31m---------------------------------------------------------------------------\u001b[0m",
      "\u001b[1;31mTypeError\u001b[0m                                 Traceback (most recent call last)",
      "\u001b[1;32m<ipython-input-41-59f54d431426>\u001b[0m in \u001b[0;36m<module>\u001b[1;34m\u001b[0m\n\u001b[0;32m     20\u001b[0m \u001b[1;31m#         for j in range(0,6):\u001b[0m\u001b[1;33m\u001b[0m\u001b[1;33m\u001b[0m\u001b[1;33m\u001b[0m\u001b[0m\n\u001b[0;32m     21\u001b[0m \u001b[1;31m#             print(l[j])\u001b[0m\u001b[1;33m\u001b[0m\u001b[1;33m\u001b[0m\u001b[1;33m\u001b[0m\u001b[0m\n\u001b[1;32m---> 22\u001b[1;33m \u001b[0mgeneratemarks\u001b[0m\u001b[1;33m(\u001b[0m\u001b[1;36m2\u001b[0m\u001b[1;33m,\u001b[0m\u001b[1;36m0\u001b[0m\u001b[1;33m,\u001b[0m\u001b[1;36m100\u001b[0m\u001b[1;33m)\u001b[0m\u001b[1;33m\u001b[0m\u001b[1;33m\u001b[0m\u001b[0m\n\u001b[0m",
      "\u001b[1;32m<ipython-input-41-59f54d431426>\u001b[0m in \u001b[0;36mgeneratemarks\u001b[1;34m(n, lb, ub)\u001b[0m\n\u001b[0;32m     15\u001b[0m             \u001b[0ml1\u001b[0m\u001b[1;33m=\u001b[0m\u001b[0mf\u001b[0m\u001b[1;33m.\u001b[0m\u001b[0mwrite\u001b[0m\u001b[1;33m(\u001b[0m\u001b[0mstr\u001b[0m\u001b[1;33m(\u001b[0m\u001b[0mr1\u001b[0m\u001b[1;33m)\u001b[0m\u001b[1;33m+\u001b[0m\u001b[1;34m\" \"\u001b[0m\u001b[1;33m)\u001b[0m\u001b[1;33m\u001b[0m\u001b[1;33m\u001b[0m\u001b[0m\n\u001b[0;32m     16\u001b[0m         \u001b[1;32mfor\u001b[0m \u001b[0mj\u001b[0m \u001b[1;32min\u001b[0m \u001b[0mrange\u001b[0m\u001b[1;33m(\u001b[0m\u001b[1;36m0\u001b[0m\u001b[1;33m,\u001b[0m\u001b[1;36m2\u001b[0m\u001b[1;33m)\u001b[0m\u001b[1;33m:\u001b[0m\u001b[1;33m\u001b[0m\u001b[1;33m\u001b[0m\u001b[0m\n\u001b[1;32m---> 17\u001b[1;33m             \u001b[0mprint\u001b[0m\u001b[1;33m(\u001b[0m\u001b[0ml\u001b[0m\u001b[1;33m[\u001b[0m\u001b[0mj\u001b[0m\u001b[1;33m]\u001b[0m\u001b[1;33m)\u001b[0m\u001b[1;33m\u001b[0m\u001b[1;33m\u001b[0m\u001b[0m\n\u001b[0m\u001b[0;32m     18\u001b[0m     \u001b[0mavg\u001b[0m\u001b[1;33m=\u001b[0m\u001b[1;33m(\u001b[0m\u001b[0msum\u001b[0m\u001b[1;33m(\u001b[0m\u001b[0mint\u001b[0m\u001b[1;33m(\u001b[0m\u001b[0ml1\u001b[0m\u001b[1;33m)\u001b[0m\u001b[1;33m)\u001b[0m\u001b[1;33m)\u001b[0m\u001b[1;33m//\u001b[0m\u001b[1;36m2\u001b[0m\u001b[1;33m\u001b[0m\u001b[1;33m\u001b[0m\u001b[0m\n\u001b[0;32m     19\u001b[0m     \u001b[0mprint\u001b[0m\u001b[1;33m(\u001b[0m\u001b[0mavg\u001b[0m\u001b[1;33m)\u001b[0m\u001b[1;33m\u001b[0m\u001b[1;33m\u001b[0m\u001b[0m\n",
      "\u001b[1;31mTypeError\u001b[0m: 'int' object is not subscriptable"
     ]
    }
   ],
   "source": [
    "from random import randint\n",
    "def generatemarks(n,lb,ub):\n",
    "    l=[]\n",
    "    l1=[]\n",
    "    l2=[]\n",
    "    l3=[]\n",
    "    l4=[]\n",
    "    l5=[]\n",
    "    with open(\"DataFiles/marks1.txt\",'w') as f:\n",
    "        for i in range(0,n):\n",
    "            r=randint(lb,ub)\n",
    "            r1=randint(lb,ub)\n",
    "            l=f.write(str(r)+\" \")\n",
    "            print(\"\\n\")\n",
    "            l1=f.write(str(r1)+\" \")\n",
    "        for j in range(0,2):\n",
    "            print(l[j])\n",
    "    avg=(sum(int(l1)))//2\n",
    "    print(avg)\n",
    "#         for j in range(0,6):\n",
    "#             print(l[j])\n",
    "generatemarks(2,0,100)\n"
   ]
  },
  {
   "cell_type": "code",
   "execution_count": 60,
   "metadata": {},
   "outputs": [
    {
     "name": "stdout",
     "output_type": "stream",
     "text": [
      "[42, 94, 74] [63, 87, 68] [73, 137, 108]\n"
     ]
    }
   ],
   "source": [
    "from random import randint\n",
    "\n",
    "def calMarks(num,lb,ub):\n",
    "    te=[]\n",
    "    en=[]\n",
    "    sums=[]\n",
    "    for i in range(num):\n",
    "        te.append(randint(lb,ub))\n",
    "        en.append(randint(lb,ub))\n",
    "        sums.append(te[i]+en[i]//2)      \n",
    "    print(te,en,sums)\n",
    "calMarks(3,20,100)\n",
    "    "
   ]
  },
  {
   "cell_type": "code",
   "execution_count": 8,
   "metadata": {},
   "outputs": [
    {
     "name": "stdout",
     "output_type": "stream",
     "text": [
      "Welcome satheesh\n",
      "goodEvening satheesh\n",
      "are you single\n",
      "yes ohhhh!!!!\n",
      "why dude"
     ]
    }
   ],
   "source": [
    "#replace data\n",
    "# def searchwithreturn(filename,name):\n",
    "#     f=csvToList(filename)\n",
    "#     flag=0\n",
    "#     for i in range(len(f)):\n",
    "#         if name==f[i]:\n",
    "#             flag=1\n",
    "#             return 1\n",
    "#     if flag==False:\n",
    "#         return -1\n",
    "# searchwithreturn('DataFiles/file1.txt',\"Welcome satheesh\")\n",
    "def data(filename):\n",
    "    with open(filename,\"r\") as f:\n",
    "        f=f.read()\n",
    "        for i in f:\n",
    "            print(i,end=\"\")\n",
    "filename=\"./DataFiles/file1.txt\"\n",
    "data(filename)\n",
    "\n",
    "\n"
   ]
  },
  {
   "cell_type": "code",
   "execution_count": 23,
   "metadata": {},
   "outputs": [
    {
     "name": "stdout",
     "output_type": "stream",
     "text": [
      "\n",
      "\n",
      "\n",
      "not in line\n",
      "not in line\n",
      "not in line\n"
     ]
    }
   ],
   "source": [
    "#data search and replace\n",
    "def datasearch(filename,name):\n",
    "    with open(filename,'r')as f:\n",
    "        words=''\n",
    "        for line in f:\n",
    "            line=line.strip()\n",
    "#             print(line)\n",
    "#             wordslist=line.split()\n",
    "            if name in line:\n",
    "                words=words.replace(\"god\",name)\n",
    "                print(words)\n",
    "            else:\n",
    "                print(\"not in line\")\n",
    "         \n",
    "    \n",
    "    \n",
    "    \n",
    "filename=\"./DataFiles/file1.txt\"\n",
    "datasearch(filename,\"satheesh\")"
   ]
  },
  {
   "cell_type": "code",
   "execution_count": 61,
   "metadata": {},
   "outputs": [],
   "source": [
    "def replaceString(filename,name):\n",
    "    with open(filename,'r+') as f:\n",
    "        f.write(f.read().replace('satheesh',name))\n",
    "filename=\"./DataFiles/file1.txt\"        \n",
    "replaceString(filename,'Vinod')"
   ]
  }
 ],
 "metadata": {
  "kernelspec": {
   "display_name": "Python 3",
   "language": "python",
   "name": "python3"
  },
  "language_info": {
   "codemirror_mode": {
    "name": "ipython",
    "version": 3
   },
   "file_extension": ".py",
   "mimetype": "text/x-python",
   "name": "python",
   "nbconvert_exporter": "python",
   "pygments_lexer": "ipython3",
   "version": "3.7.3"
  }
 },
 "nbformat": 4,
 "nbformat_minor": 2
}
