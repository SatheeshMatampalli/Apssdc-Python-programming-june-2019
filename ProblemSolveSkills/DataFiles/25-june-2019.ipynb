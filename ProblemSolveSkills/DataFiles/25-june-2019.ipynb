{
 "cells": [
  {
   "cell_type": "code",
   "execution_count": 43,
   "metadata": {},
   "outputs": [
    {
     "name": "stdout",
     "output_type": "stream",
     "text": [
      "95\n",
      "Writed Successfully...!\n"
     ]
    }
   ],
   "source": [
    "#marks application\n",
    "from random import randint\n",
    "\n",
    "def calMarks(filename,num,lb,ub):\n",
    "    te,en,avg=[],[],[]\n",
    "    c,d,e=0,0,0\n",
    "    with open(filename,\"w\") as f:\n",
    "        for i in range(num):\n",
    "            te.append(randint(lb,ub))\n",
    "            en.append(randint(lb,ub))\n",
    "            avg.append((te[i]+en[i])//2)\n",
    "        \n",
    "        for i in range(len(te)):\n",
    "            if avg[i]>=75:\n",
    "                f.write(str(te[i])+\"  \"+str(en[i])+\" | \"+str(avg[i])+\" Distiction \"+\"\\n\")\n",
    "                c=c+1\n",
    "                d=d+1\n",
    "            elif (avg[i]>=35):\n",
    "                f.write(str(te[i])+\"  \"+str(en[i])+\" | \"+str(avg[i])+\" PASS \"+\"\\n\")\n",
    "                d=d+1\n",
    "            elif avg[i]<35:\n",
    "                f.write(str(te[i])+\"  \"+str(en[i])+\" | \"+str(avg[i])+\" FAIL \"+\"\\n\")\n",
    "                e=e+1\n",
    "        f.write(\"____________ \\n\")\n",
    "        f.write(str(sum(te)//num)+\"  \"+str(sum(en)//num)+\"\\n\")\n",
    "        \n",
    "        percdist=(c/num)*100\n",
    "        f.write(\"Distintion :\"+str(percdist)+\"%\\n\")\n",
    "        percpass=(d/num)*100\n",
    "        f.write(\"Pass :\"+str(percpass)+\"%\\n\")\n",
    "        percfail=(e/num)*100\n",
    "        f.write(\"Fail :\"+str(percfail)+\"%\\n\")\n",
    "        print(max(avg))       \n",
    "            \n",
    "                \n",
    "                \n",
    "        \n",
    "    print(\"Writed Successfully...!\")\n",
    "filename=\"marks1.txt\"\n",
    "calMarks(filename,10,0,100)"
   ]
  },
  {
   "cell_type": "code",
   "execution_count": 44,
   "metadata": {},
   "outputs": [],
   "source": [
    "from random import randint\n",
    "def addmarks(filename,n,lb,ub):\n",
    "    te,en,avg=[],[],[]\n",
    "    with open(filename,'w')as f:\n",
    "        for i in range(n):\n",
    "            te.append(randint(lb,ub))\n",
    "            en.append(randint(lb,ub))\n",
    "            f.write(str(te[i])+\" \"+str(en[i])+\"\\n\")\n",
    "addmarks(\"./marks2.txt\",4,0,100)\n",
    "    "
   ]
  },
  {
   "cell_type": "code",
   "execution_count": 95,
   "metadata": {},
   "outputs": [
    {
     "name": "stdout",
     "output_type": "stream",
     "text": [
      "students two subjects marks :\n",
      "91 42 66.5\n",
      "22 82 52.0\n",
      "41 59 50.0\n",
      "74 6 40.0\n",
      "57.0 47.25\n"
     ]
    }
   ],
   "source": [
    "def marksAverage(filename):\n",
    "    c=1\n",
    "    s=0\n",
    "    s1=0\n",
    "    with open(filename,'r')as f:\n",
    "        print(\"students two subjects marks :\")\n",
    "        for i in f:\n",
    "            i=i.split()\n",
    "            i=list(map(int,i))            \n",
    "            print(i[0],i[1], sum(i)/2)\n",
    "            for j in range(0,len(i)):\n",
    "                if j == 0:\n",
    "                    s=s+i[j]\n",
    "                elif j==1:\n",
    "                    s1=s1+i[j]\n",
    "            c=c+1\n",
    "        print(s/(c-1),s1/(c-1))\n",
    "                \n",
    "            \n",
    "\n",
    "marksAverage(\"marks2.txt\")\n"
   ]
  },
  {
   "cell_type": "code",
   "execution_count": 111,
   "metadata": {},
   "outputs": [
    {
     "name": "stdout",
     "output_type": "stream",
     "text": [
      "students two subjects marks :\n",
      "91 42 66.5\n",
      "22 82 52.0\n",
      "41 59 50.0\n",
      "74 6 40.0\n",
      "[66.5, 52.0, 50.0, 40.0]\n",
      "0 4 0\n",
      "0.0\n",
      "100.0\n",
      "0.0\n"
     ]
    }
   ],
   "source": [
    "def grade(filename):\n",
    "     a=[]\n",
    "     c=0\n",
    "     d=0\n",
    "     e=0\n",
    "     with open(filename,'r')as f:\n",
    "        print(\"students two subjects marks :\")\n",
    "        for i in f:\n",
    "            i=i.split()\n",
    "            i=list(map(int,i))\n",
    "            a.append((sum(i)/2))\n",
    "            print(i[0],i[1], sum(i)/2)\n",
    "        print(a)\n",
    "        for j in a:\n",
    "            if j>=75:\n",
    "                c=c+1\n",
    "            elif j>=35:\n",
    "                d=d+1\n",
    "            elif j<35:\n",
    "                e=e+1\n",
    "        print(c,d,e)\n",
    "        percdis=((c/4)*100)\n",
    "        print(percdis)\n",
    "        percpass=((d/4)*100)\n",
    "        print(percpass)\n",
    "        percfail=((e/4)*100)\n",
    "        print(percfail)\n",
    "        \n",
    "                \n",
    "            \n",
    "grade(\"marks2.txt\")\n",
    "        \n",
    "        "
   ]
  },
  {
   "cell_type": "code",
   "execution_count": 115,
   "metadata": {},
   "outputs": [
    {
     "name": "stdout",
     "output_type": "stream",
     "text": [
      "91 => 2\n"
     ]
    }
   ],
   "source": [
    "def frequencyHighest(filename):\n",
    "    with open(filename,'r') as f:\n",
    "        sp=f.read().split()\n",
    "        sp=list(map(int,sp))\n",
    "        print(max(sp),\"=>\",sp.count(max(sp)))\n",
    "        \n",
    "frequencyHighest('marks2.txt')"
   ]
  },
  {
   "cell_type": "code",
   "execution_count": null,
   "metadata": {},
   "outputs": [],
   "source": [
    "# Contact application\n",
    "#add contact(name,phone no,email)\n",
    "#search contact\n",
    "#list contact\n",
    "#modify contact\n",
    "#delete contact\n",
    "#contacts app()\n",
    "\n",
    "\n",
    "\n",
    "\n",
    "\n",
    "\n",
    "\n"
   ]
  },
  {
   "cell_type": "code",
   "execution_count": 128,
   "metadata": {},
   "outputs": [
    {
     "name": "stdout",
     "output_type": "stream",
     "text": [
      "enter namesatheesh\n",
      "enter no9676047715\n",
      "enter mails@gmail.com\n",
      "enter namerajesh\n",
      "enter no9959169916\n",
      "enter mailr@gmail.com\n"
     ]
    }
   ],
   "source": [
    "#add contact\n",
    "def addContact(filename,n):\n",
    "    name,phone,email=[],[],[]\n",
    "    with open(filename,'w')as f:\n",
    "        for i in range(n):\n",
    "            na=input(\"enter name\")\n",
    "            ph=int(input(\"enter no\"))\n",
    "            em=input(\"enter mail\")\n",
    "            name.append(na)\n",
    "            phone.append(ph)\n",
    "            email.append(em)\n",
    "            f.write(str(name[i])+\"  \"+str(phone[i])+\" | \"+str(email[i])+\"\\n\")\n",
    "filename=\"Contacts1.txt\"\n",
    "addContact(filename,2)\n",
    "        \n",
    "    "
   ]
  },
  {
   "cell_type": "code",
   "execution_count": null,
   "metadata": {},
   "outputs": [],
   "source": [
    "def contact_exist(name):\n",
    "    filename=\"Contacts2.txt\"\n",
    "    with open(filename,'r')as f:\n",
    "        p=name+\",\"\n",
    "        fd=f.read()\n",
    "    return re.search(p,fd)\n"
   ]
  },
  {
   "cell_type": "code",
   "execution_count": null,
   "metadata": {},
   "outputs": [],
   "source": [
    "# filename = './DataFiles/contacts.txt'\n",
    "# def csvToList(filename):\n",
    "#     li = []\n",
    "#     with open(filename, 'r') as f:\n",
    "#         for line in f:\n",
    "#             li.append(line.split(','))\n",
    "#     return li\n",
    "\n",
    "# def listToFile(li):\n",
    "#     s = ''\n",
    "#     for i in li:\n",
    "#         s += ','.join(i)\n",
    "#     return s\n",
    "    \n",
    "# li = csvToList(filename)\n",
    "# listToFile(li)\n",
    "def searchContact(name):\n",
    "    if contact"
   ]
  },
  {
   "cell_type": "code",
   "execution_count": 116,
   "metadata": {},
   "outputs": [
    {
     "data": {
      "text/plain": [
       "True"
      ]
     },
     "execution_count": 116,
     "metadata": {},
     "output_type": "execute_result"
    }
   ],
   "source": [
    "#function to check if two strings are same\n",
    "#abc cba-->true\n",
    "#aaabbc   bbaaaacc....>False\n",
    "def checkanagrams(s1,s2):\n",
    "    if len(s1)!=len(s2):\n",
    "        return False\n",
    "    elif sorted(s1)==sorted(s2):\n",
    "        return True\n",
    "    return False\n",
    "checkanagrams(\"abc\",\"bca\")\n",
    "        "
   ]
  },
  {
   "cell_type": "code",
   "execution_count": 124,
   "metadata": {},
   "outputs": [
    {
     "data": {
      "text/plain": [
       "'a'"
      ]
     },
     "execution_count": 124,
     "metadata": {},
     "output_type": "execute_result"
    }
   ],
   "source": [
    "#largest no in list\n",
    "#second largest no in a list\n",
    "#kth largest no in a list\n",
    "#element with highest frequency\n",
    "#kth second highest frequency\n",
    "#kth highest frequency\n",
    "\n",
    "\n",
    "\n",
    "def KLargestFrequency(s,k):\n",
    "    #construct the frequency dictionary\n",
    "    freq={}\n",
    "    for i in s:\n",
    "        if i not in freq.keys():\n",
    "            freq[i]=s.count(i)\n",
    "    values=sorted(freq.values(),reverse=True)\n",
    "    uniquevalues=list(set(values))\n",
    "    uniquevalues=sorted(uniquevalues,reverse=True)\n",
    "    if k<len(uniquevalues):\n",
    "        kvalue=uniquevalues[k-1]\n",
    "    else:\n",
    "        return -1\n",
    "    li=[]\n",
    "    kvalue=uniquevalues[k-1]\n",
    "    for item in freq.items():\n",
    "        if item[1]==kvalue:\n",
    "            li.append(item[0])\n",
    "    return min(li)    \n",
    "KLargestFrequency(\"aabcdcc\",2)    \n",
    "    "
   ]
  },
  {
   "cell_type": "code",
   "execution_count": null,
   "metadata": {},
   "outputs": [],
   "source": [
    "#function to find the second largestno\n",
    "def secondlargest(li):\n",
    "    "
   ]
  }
 ],
 "metadata": {
  "kernelspec": {
   "display_name": "Python 3",
   "language": "python",
   "name": "python3"
  },
  "language_info": {
   "codemirror_mode": {
    "name": "ipython",
    "version": 3
   },
   "file_extension": ".py",
   "mimetype": "text/x-python",
   "name": "python",
   "nbconvert_exporter": "python",
   "pygments_lexer": "ipython3",
   "version": "3.7.3"
  }
 },
 "nbformat": 4,
 "nbformat_minor": 2
}
