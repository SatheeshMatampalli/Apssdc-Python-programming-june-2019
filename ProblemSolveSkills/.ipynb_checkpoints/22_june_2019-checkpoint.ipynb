{
 "cells": [
  {
   "cell_type": "markdown",
   "metadata": {},
   "source": [
    "### File handling (Recap)\n",
    "    - Basic file data processing\n",
    "        - accessing and modify file data\n",
    "    - character count\n",
    "    - line count\n",
    "    - file count\n",
    "    - word count\n",
    "    - unique word count\n",
    "    "
   ]
  },
  {
   "cell_type": "code",
   "execution_count": 30,
   "metadata": {},
   "outputs": [
    {
     "name": "stdout",
     "output_type": "stream",
     "text": [
      "77\n"
     ]
    }
   ],
   "source": [
    "# count characters\n",
    "def readFile(filepath):\n",
    "    c=0\n",
    "    with open(filepath,'r') as f:\n",
    "        filedata=f.read()\n",
    "        for i in filedata:\n",
    "            c=c+1\n",
    "        return c\n",
    "filepath=\"./DataFiles/file1.txt\"\n",
    "print(readFile(filepath))"
   ]
  },
  {
   "cell_type": "code",
   "execution_count": 29,
   "metadata": {},
   "outputs": [
    {
     "name": "stdout",
     "output_type": "stream",
     "text": [
      "12\n",
      "None\n"
     ]
    }
   ],
   "source": [
    "# count words\n",
    "def readFile(filepath):\n",
    "    c=0\n",
    "    with open(filepath,'r') as f:\n",
    "        filedata=f.read().split()\n",
    "        print(len(filedata))\n",
    "filepath=\"./DataFiles/file1.txt\"\n",
    "print(readFile(filepath))\n"
   ]
  },
  {
   "cell_type": "code",
   "execution_count": 28,
   "metadata": {},
   "outputs": [
    {
     "name": "stdout",
     "output_type": "stream",
     "text": [
      "6\n"
     ]
    }
   ],
   "source": [
    "# count lines\n",
    "def readFile(filepath):\n",
    "    c=0\n",
    "    with open(filepath,'r') as f:\n",
    "        for i in f:\n",
    "            c=c+1\n",
    "        return c\n",
    "filepath=\"./DataFiles/file1.txt\"\n",
    "print(readFile(filepath))"
   ]
  },
  {
   "cell_type": "code",
   "execution_count": 22,
   "metadata": {},
   "outputs": [
    {
     "name": "stdout",
     "output_type": "stream",
     "text": [
      "Welcome satheesh\n",
      "goodEvening satheesh\n",
      "are you single\n",
      "yes ohhhh!!!!\n",
      "why dude\n",
      "?\n"
     ]
    }
   ],
   "source": [
    "#read file and it should exist(Read mode)\n",
    "#write to file-existing(append mode) or new file(write mode)\n",
    "def readFile(filepath):\n",
    "    with open(filepath,'r') as f:\n",
    "        filedata=f.read()\n",
    "    return filedata\n",
    "filepath=\"./DataFiles/file1.txt\"\n",
    "print(readFile(filepath))"
   ]
  },
  {
   "cell_type": "code",
   "execution_count": 47,
   "metadata": {},
   "outputs": [
    {
     "name": "stdout",
     "output_type": "stream",
     "text": [
      "Welcome goodEvening are you single yes ohhhh!!!! why dude ? 10\n",
      "None\n"
     ]
    }
   ],
   "source": [
    "#unique word count\n",
    "def readFile(filepath):\n",
    "    uniqueword=[]\n",
    "    with open(filepath,'r') as f:\n",
    "        filedata=f.read().split()\n",
    "        for word in filedata:\n",
    "            if (filedata.count(word)==1) and (word not in uniqueword):\n",
    "                uniqueword.append(word)\n",
    "            else:\n",
    "                continue\n",
    "        c=0\n",
    "        for a in uniqueword:\n",
    "            print(a,end=\" \")\n",
    "            c=c+1\n",
    "        print(c)\n",
    "                    \n",
    "filepath=\"./DataFiles/file1.txt\"\n",
    "print(readFile(filepath))"
   ]
  },
  {
   "cell_type": "code",
   "execution_count": 51,
   "metadata": {},
   "outputs": [
    {
     "name": "stdout",
     "output_type": "stream",
     "text": [
      "['Welcome', 'satheesh', 'goodEvening', 'are', 'you', 'single', 'yes', 'ohhhh!!!!', 'why', 'dude', '?']\n",
      "None\n"
     ]
    }
   ],
   "source": [
    "#unique word count\n",
    "def readFile(filepath):\n",
    "    uniqueword=[]\n",
    "    with open(filepath,'r') as f:\n",
    "        filedata=f.read().split()\n",
    "        a=list(dict.fromkeys(filedata))\n",
    "    print(a)\n",
    "    a=str(a)\n",
    "       \n",
    "                    \n",
    "filepath=\"./DataFiles/file1.txt\"\n",
    "print(readFile(filepath))"
   ]
  },
  {
   "cell_type": "code",
   "execution_count": 81,
   "metadata": {},
   "outputs": [
    {
     "ename": "TypeError",
     "evalue": "can only concatenate list (not \"int\") to list",
     "output_type": "error",
     "traceback": [
      "\u001b[1;31m---------------------------------------------------------------------------\u001b[0m",
      "\u001b[1;31mTypeError\u001b[0m                                 Traceback (most recent call last)",
      "\u001b[1;32m<ipython-input-81-e4db26cd0742>\u001b[0m in \u001b[0;36m<module>\u001b[1;34m\u001b[0m\n\u001b[0;32m     18\u001b[0m         \u001b[1;32mcontinue\u001b[0m\u001b[1;33m\u001b[0m\u001b[1;33m\u001b[0m\u001b[0m\n\u001b[0;32m     19\u001b[0m \u001b[1;32mfor\u001b[0m \u001b[0mg\u001b[0m \u001b[1;32min\u001b[0m \u001b[0mf\u001b[0m\u001b[1;33m:\u001b[0m\u001b[1;33m\u001b[0m\u001b[1;33m\u001b[0m\u001b[0m\n\u001b[1;32m---> 20\u001b[1;33m     \u001b[0mc\u001b[0m\u001b[1;33m=\u001b[0m\u001b[0mc\u001b[0m\u001b[1;33m+\u001b[0m\u001b[1;36m1\u001b[0m\u001b[1;33m\u001b[0m\u001b[1;33m\u001b[0m\u001b[0m\n\u001b[0m\u001b[0;32m     21\u001b[0m \u001b[0mprint\u001b[0m\u001b[1;33m(\u001b[0m\u001b[0mc\u001b[0m\u001b[1;33m)\u001b[0m\u001b[1;33m\u001b[0m\u001b[1;33m\u001b[0m\u001b[0m\n\u001b[0;32m     22\u001b[0m \u001b[1;33m\u001b[0m\u001b[0m\n",
      "\u001b[1;31mTypeError\u001b[0m: can only concatenate list (not \"int\") to list"
     ]
    }
   ],
   "source": [
    "uniqueword=[]\n",
    "a=\"abc\"\n",
    "b=\"bac\"\n",
    "c=[]\n",
    "d=[]\n",
    "f=[]\n",
    "zzz=0\n",
    "for i in range(0,len(a)):\n",
    "    zz=a[i]\n",
    "    c.append(zz)\n",
    "for j in range(0,len(b)):\n",
    "    zzz=b[j]\n",
    "    d.append(zzz)\n",
    "for letter in c:\n",
    "    if c.count(letter)==1 and (letter not in f):\n",
    "        f.append(letter)\n",
    "    else:\n",
    "        continue\n",
    "for g in f:\n",
    "    co=co+1\n",
    "print(co)\n",
    "\n",
    "#         for word in filedata:\n",
    "#             if (filedata.count(word)==1) and (word not in uniqueword):\n",
    "#                 uniqueword.append(word)\n",
    "#             else:\n",
    "#                 continue\n",
    "#         c=0\n",
    "#         for a in uniqueword:\n",
    "#             print(a,end=\" \")\n",
    "#             c=c+1\n",
    "#         print(c)"
   ]
  },
  {
   "cell_type": "code",
   "execution_count": null,
   "metadata": {},
   "outputs": [],
   "source": []
  }
 ],
 "metadata": {
  "kernelspec": {
   "display_name": "Python 3",
   "language": "python",
   "name": "python3"
  },
  "language_info": {
   "codemirror_mode": {
    "name": "ipython",
    "version": 3
   },
   "file_extension": ".py",
   "mimetype": "text/x-python",
   "name": "python",
   "nbconvert_exporter": "python",
   "pygments_lexer": "ipython3",
   "version": "3.7.3"
  }
 },
 "nbformat": 4,
 "nbformat_minor": 2
}
